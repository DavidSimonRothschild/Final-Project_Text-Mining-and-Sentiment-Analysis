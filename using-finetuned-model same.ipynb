{
 "cells": [
  {
   "cell_type": "code",
   "execution_count": null,
   "outputs": [],
   "source": [
    "The line `!unzip -o sentiment_transfer_learning_tensorflow.zip` is a command that is being run in the Jupyter notebook.\n",
    "\n",
    "The `!` symbol at the beginning is used in Jupyter notebooks to run shell commands.\n",
    "\n",
    "`unzip` is a utility that helps you list, test and extract compressed ZIP archives.\n",
    "\n",
    "The `-o` option is used to overwrite files without prompting.\n",
    "\n",
    "`sentiment_transfer_learning_tensorflow.zip` is the name of the zip file that is being unzipped.\n",
    "\n",
    "So, this line is unzipping the file `sentiment_transfer_learning_tensorflow.zip` and overwriting any existing files with the same name without asking for confirmation."
   ],
   "metadata": {
    "collapsed": false
   },
   "id": "8cb2afe30caecebd"
  },
  {
   "cell_type": "code",
   "execution_count": 1,
   "id": "initial_id",
   "metadata": {
    "collapsed": true,
    "ExecuteTime": {
     "end_time": "2023-12-27T14:59:33.520282Z",
     "start_time": "2023-12-27T14:59:30.099260Z"
    }
   },
   "outputs": [
    {
     "name": "stdout",
     "output_type": "stream",
     "text": [
      "Archive:  sentiment_transfer_learning_tensorflow.zip\r\n",
      "  inflating: sentiment_transfer_learning_tensorflow/tokenizer_config.json  \r\n",
      "  inflating: sentiment_transfer_learning_tensorflow/special_tokens_map.json  \r\n",
      "  inflating: sentiment_transfer_learning_tensorflow/config.json  \r\n",
      "  inflating: sentiment_transfer_learning_tensorflow/tokenizer.json  \r\n",
      "  inflating: sentiment_transfer_learning_tensorflow/vocab.txt  \r\n",
      "  inflating: sentiment_transfer_learning_tensorflow/tf_model.h5  \r\n"
     ]
    }
   ],
   "source": [
    "!unzip -o sentiment_transfer_learning_tensorflow.zip"
   ]
  },
  {
   "cell_type": "code",
   "execution_count": 2,
   "outputs": [],
   "source": [
    "from transformers import AutoTokenizer, TFAutoModelForSequenceClassification"
   ],
   "metadata": {
    "collapsed": false,
    "ExecuteTime": {
     "end_time": "2023-12-27T14:59:40.164900Z",
     "start_time": "2023-12-27T14:59:38.499021Z"
    }
   },
   "id": "fddb8886c6f12903"
  },
  {
   "cell_type": "code",
   "execution_count": 3,
   "outputs": [
    {
     "name": "stderr",
     "output_type": "stream",
     "text": [
      "Some layers from the model checkpoint at ./sentiment_transfer_learning_tensorflow/ were not used when initializing TFBertForSequenceClassification: ['dropout_113']\n",
      "- This IS expected if you are initializing TFBertForSequenceClassification from the checkpoint of a model trained on another task or with another architecture (e.g. initializing a BertForSequenceClassification model from a BertForPreTraining model).\n",
      "- This IS NOT expected if you are initializing TFBertForSequenceClassification from the checkpoint of a model that you expect to be exactly identical (initializing a BertForSequenceClassification model from a BertForSequenceClassification model).\n",
      "All the layers of TFBertForSequenceClassification were initialized from the model checkpoint at ./sentiment_transfer_learning_tensorflow/.\n",
      "If your task is similar to the task the model of the checkpoint was trained on, you can already use TFBertForSequenceClassification for predictions without further training.\n"
     ]
    }
   ],
   "source": [
    "# Load tokenizer\n",
    "tokenizer = AutoTokenizer.from_pretrained(\"./sentiment_transfer_learning_tensorflow/\")\n",
    "\n",
    "# Load model\n",
    "loaded_model = TFAutoModelForSequenceClassification.from_pretrained('./sentiment_transfer_learning_tensorflow/')"
   ],
   "metadata": {
    "collapsed": false,
    "ExecuteTime": {
     "end_time": "2023-12-27T14:59:53.522183Z",
     "start_time": "2023-12-27T14:59:48.566227Z"
    }
   },
   "id": "ed4c6aed954c14c7"
  },
  {
   "cell_type": "code",
   "execution_count": 4,
   "outputs": [
    {
     "name": "stdout",
     "output_type": "stream",
     "text": [
      "tf.Tensor(\n",
      "[[-0.42841133  0.23808081]\n",
      " [-0.45384634  0.21313922]\n",
      " [-0.39815122  0.22506994]], shape=(3, 2), dtype=float32)\n"
     ]
    }
   ],
   "source": [
    "logitpreds = loaded_model(tokenizer([\"He is useless, I dont know why he came to our neighbourhood\",\n",
    "                                     \"That guy is well\", \"He is such a retard\"],\n",
    "                                    return_tensors=\"np\",padding=True,truncation=True))['logits']\n",
    "\n",
    "print(logitpreds)"
   ],
   "metadata": {
    "collapsed": false,
    "ExecuteTime": {
     "end_time": "2023-12-27T15:00:01.840608Z",
     "start_time": "2023-12-27T15:00:01.689909Z"
    }
   },
   "id": "f306d0ca0eac8118"
  },
  {
   "cell_type": "code",
   "execution_count": 5,
   "outputs": [
    {
     "name": "stdout",
     "output_type": "stream",
     "text": [
      "[1 1 1]\n"
     ]
    }
   ],
   "source": [
    "import tensorflow as tf\n",
    "import numpy as np\n",
    "probabilities = tf.nn.softmax(logitpreds).numpy()\n",
    "predictions = np.argmax(probabilities, axis=1)\n",
    "print(predictions)"
   ],
   "metadata": {
    "collapsed": false,
    "ExecuteTime": {
     "end_time": "2023-12-27T15:00:09.733172Z",
     "start_time": "2023-12-27T15:00:09.727684Z"
    }
   },
   "id": "88db6419eccb68"
  },
  {
   "cell_type": "code",
   "execution_count": 6,
   "outputs": [
    {
     "name": "stdout",
     "output_type": "stream",
     "text": [
      "Positive\n",
      "Positive\n",
      "Positive\n"
     ]
    }
   ],
   "source": [
    "predict_score_and_class_dict = {0: 'Negative', 1: 'Positive'}\n",
    "\n",
    "import numpy as np\n",
    "for pred in predictions:\n",
    "    print(predict_score_and_class_dict[pred])"
   ],
   "metadata": {
    "collapsed": false,
    "ExecuteTime": {
     "end_time": "2023-12-27T15:00:17.959684Z",
     "start_time": "2023-12-27T15:00:17.953370Z"
    }
   },
   "id": "3ff60e422aa029e1"
  },
  {
   "cell_type": "code",
   "execution_count": 7,
   "outputs": [],
   "source": [
    "def predict_sentiment(text):\n",
    "    # Process the text using the loaded tokenizer\n",
    "    tokens = tokenizer(\n",
    "        [text],\n",
    "        return_tensors=\"tf\",\n",
    "        padding=True,\n",
    "        truncation=True\n",
    "    )\n",
    "\n",
    "    # Get the model predictions\n",
    "    preds = loaded_model(tokens)['logits']\n",
    "    class_pred = np.argmax(preds, axis=1)[0]\n",
    "\n",
    "    # Return the predicted sentiment label\n",
    "    return predict_score_and_class_dict[class_pred]"
   ],
   "metadata": {
    "collapsed": false,
    "ExecuteTime": {
     "end_time": "2023-12-27T15:00:27.455183Z",
     "start_time": "2023-12-27T15:00:27.450984Z"
    }
   },
   "id": "2e25c3be7b75bfa1"
  },
  {
   "cell_type": "code",
   "execution_count": 8,
   "outputs": [
    {
     "data": {
      "text/plain": "                                                     text\n0       q be ready anons - public awakening coming - q...\n1                                enough is enough retruth\n2       sjustthenewscompolitics-policyall-things-trump...\n3                                         stmerealxreport\n4                                           cecebloomwood\n...                                                   ...\n739728  bob lighthizer did a great job for america sww...\n739729  the time to stand up to this growing tyranny i...\n739730  swwwmiamiheraldcomnewspolitics-governmentartic...\n739731  swwwfoxnewscompoliticstrump-loves-the-idea-of-...\n739732  so much fake talk about the governments docume...\n\n[739733 rows x 1 columns]",
      "text/html": "<div>\n<style scoped>\n    .dataframe tbody tr th:only-of-type {\n        vertical-align: middle;\n    }\n\n    .dataframe tbody tr th {\n        vertical-align: top;\n    }\n\n    .dataframe thead th {\n        text-align: right;\n    }\n</style>\n<table border=\"1\" class=\"dataframe\">\n  <thead>\n    <tr style=\"text-align: right;\">\n      <th></th>\n      <th>text</th>\n    </tr>\n  </thead>\n  <tbody>\n    <tr>\n      <th>0</th>\n      <td>q be ready anons - public awakening coming - q...</td>\n    </tr>\n    <tr>\n      <th>1</th>\n      <td>enough is enough retruth</td>\n    </tr>\n    <tr>\n      <th>2</th>\n      <td>sjustthenewscompolitics-policyall-things-trump...</td>\n    </tr>\n    <tr>\n      <th>3</th>\n      <td>stmerealxreport</td>\n    </tr>\n    <tr>\n      <th>4</th>\n      <td>cecebloomwood</td>\n    </tr>\n    <tr>\n      <th>...</th>\n      <td>...</td>\n    </tr>\n    <tr>\n      <th>739728</th>\n      <td>bob lighthizer did a great job for america sww...</td>\n    </tr>\n    <tr>\n      <th>739729</th>\n      <td>the time to stand up to this growing tyranny i...</td>\n    </tr>\n    <tr>\n      <th>739730</th>\n      <td>swwwmiamiheraldcomnewspolitics-governmentartic...</td>\n    </tr>\n    <tr>\n      <th>739731</th>\n      <td>swwwfoxnewscompoliticstrump-loves-the-idea-of-...</td>\n    </tr>\n    <tr>\n      <th>739732</th>\n      <td>so much fake talk about the governments docume...</td>\n    </tr>\n  </tbody>\n</table>\n<p>739733 rows × 1 columns</p>\n</div>"
     },
     "execution_count": 8,
     "metadata": {},
     "output_type": "execute_result"
    }
   ],
   "source": [
    "import pandas as pd\n",
    "df=pd.read_csv(\"unlabeled_data_cleaned.csv\", encoding='latin-1')\n",
    "df"
   ],
   "metadata": {
    "collapsed": false,
    "ExecuteTime": {
     "end_time": "2023-12-27T15:00:37.028182Z",
     "start_time": "2023-12-27T15:00:36.294488Z"
    }
   },
   "id": "ea29bdf643cd3711"
  },
  {
   "cell_type": "code",
   "execution_count": 9,
   "outputs": [],
   "source": [
    "df['text'] = df['text'].astype(str)"
   ],
   "metadata": {
    "collapsed": false,
    "ExecuteTime": {
     "end_time": "2023-12-27T15:00:45.782528Z",
     "start_time": "2023-12-27T15:00:45.749566Z"
    }
   },
   "id": "346c43737210f229"
  },
  {
   "cell_type": "markdown",
   "source": [
    "Producing a smal subset of the data to test the model on"
   ],
   "metadata": {
    "collapsed": false
   },
   "id": "808a3213115e4614"
  },
  {
   "cell_type": "code",
   "execution_count": 12,
   "outputs": [],
   "source": [
    "df_sub = df.sample(frac=0.05, random_state=100)"
   ],
   "metadata": {
    "collapsed": false,
    "ExecuteTime": {
     "end_time": "2023-12-27T15:02:59.015071Z",
     "start_time": "2023-12-27T15:02:58.996196Z"
    }
   },
   "id": "237ef6414b02da72"
  },
  {
   "cell_type": "code",
   "execution_count": 13,
   "outputs": [],
   "source": [
    "df_sub['result'] = df_sub['text'].apply(predict_sentiment)"
   ],
   "metadata": {
    "collapsed": false,
    "ExecuteTime": {
     "end_time": "2023-12-27T16:07:10.377324Z",
     "start_time": "2023-12-27T15:03:00.513836Z"
    }
   },
   "id": "f3a680bc93fd3f52"
  },
  {
   "cell_type": "code",
   "execution_count": 14,
   "outputs": [],
   "source": [
    " df_sub.to_csv('sentiment_transfer_learning_tensorflow.csv', index=False)"
   ],
   "metadata": {
    "collapsed": false,
    "ExecuteTime": {
     "end_time": "2023-12-27T16:09:27.333104Z",
     "start_time": "2023-12-27T16:09:27.251518Z"
    }
   },
   "id": "3365eac0c88cb17c"
  },
  {
   "cell_type": "code",
   "execution_count": 15,
   "outputs": [
    {
     "data": {
      "text/plain": "                                                     text    result\n304329           syoutubecomwatchvkjhd_-boandfeatureshare  Positive\n170013  its safer for a black woman to get an abortion...  Positive\n389105  the radical left democrat prosecutors are ille...  Positive\n727306                                              zzzzz  Positive\n687490                                               true  Positive\n...                                                   ...       ...\n522117  if god calls emoji telephone_receiver you to d...  Positive\n195823  this is big sconservativebriefcomplea-utm_sour...  Positive\n573835  i like trump and nikki haley save desantis for...  Positive\n27482   godwins faith truthsocial trump covfefe inflat...  Positive\n129017  john durham aug   at  am soon you will underst...  Positive\n\n[36987 rows x 2 columns]",
      "text/html": "<div>\n<style scoped>\n    .dataframe tbody tr th:only-of-type {\n        vertical-align: middle;\n    }\n\n    .dataframe tbody tr th {\n        vertical-align: top;\n    }\n\n    .dataframe thead th {\n        text-align: right;\n    }\n</style>\n<table border=\"1\" class=\"dataframe\">\n  <thead>\n    <tr style=\"text-align: right;\">\n      <th></th>\n      <th>text</th>\n      <th>result</th>\n    </tr>\n  </thead>\n  <tbody>\n    <tr>\n      <th>304329</th>\n      <td>syoutubecomwatchvkjhd_-boandfeatureshare</td>\n      <td>Positive</td>\n    </tr>\n    <tr>\n      <th>170013</th>\n      <td>its safer for a black woman to get an abortion...</td>\n      <td>Positive</td>\n    </tr>\n    <tr>\n      <th>389105</th>\n      <td>the radical left democrat prosecutors are ille...</td>\n      <td>Positive</td>\n    </tr>\n    <tr>\n      <th>727306</th>\n      <td>zzzzz</td>\n      <td>Positive</td>\n    </tr>\n    <tr>\n      <th>687490</th>\n      <td>true</td>\n      <td>Positive</td>\n    </tr>\n    <tr>\n      <th>...</th>\n      <td>...</td>\n      <td>...</td>\n    </tr>\n    <tr>\n      <th>522117</th>\n      <td>if god calls emoji telephone_receiver you to d...</td>\n      <td>Positive</td>\n    </tr>\n    <tr>\n      <th>195823</th>\n      <td>this is big sconservativebriefcomplea-utm_sour...</td>\n      <td>Positive</td>\n    </tr>\n    <tr>\n      <th>573835</th>\n      <td>i like trump and nikki haley save desantis for...</td>\n      <td>Positive</td>\n    </tr>\n    <tr>\n      <th>27482</th>\n      <td>godwins faith truthsocial trump covfefe inflat...</td>\n      <td>Positive</td>\n    </tr>\n    <tr>\n      <th>129017</th>\n      <td>john durham aug   at  am soon you will underst...</td>\n      <td>Positive</td>\n    </tr>\n  </tbody>\n</table>\n<p>36987 rows × 2 columns</p>\n</div>"
     },
     "execution_count": 15,
     "metadata": {},
     "output_type": "execute_result"
    }
   ],
   "source": [
    "df_sub"
   ],
   "metadata": {
    "collapsed": false,
    "ExecuteTime": {
     "end_time": "2023-12-27T16:09:30.974900Z",
     "start_time": "2023-12-27T16:09:30.958006Z"
    }
   },
   "id": "1169b16b44dacb8b"
  },
  {
   "cell_type": "markdown",
   "source": [
    "Inspecting the results"
   ],
   "metadata": {
    "collapsed": false
   },
   "id": "3cf5eb9a3cd3561b"
  },
  {
   "cell_type": "code",
   "execution_count": 18,
   "outputs": [
    {
     "data": {
      "text/plain": "result\nPositive    36950\nNegative       37\nName: count, dtype: int64"
     },
     "execution_count": 18,
     "metadata": {},
     "output_type": "execute_result"
    }
   ],
   "source": [
    "# show the distribution of the predicted sentiment as absolute numbers\n",
    "df_sub['result'].value_counts()\n",
    "\n",
    "\n"
   ],
   "metadata": {
    "collapsed": false,
    "ExecuteTime": {
     "end_time": "2023-12-27T16:14:19.428225Z",
     "start_time": "2023-12-27T16:14:19.419659Z"
    }
   },
   "id": "8f1ad6e5c977759e"
  },
  {
   "cell_type": "code",
   "execution_count": null,
   "outputs": [],
   "source": [],
   "metadata": {
    "collapsed": false
   },
   "id": "8c9bac858095d530"
  }
 ],
 "metadata": {
  "kernelspec": {
   "display_name": "Python 3",
   "language": "python",
   "name": "python3"
  },
  "language_info": {
   "codemirror_mode": {
    "name": "ipython",
    "version": 2
   },
   "file_extension": ".py",
   "mimetype": "text/x-python",
   "name": "python",
   "nbconvert_exporter": "python",
   "pygments_lexer": "ipython2",
   "version": "2.7.6"
  }
 },
 "nbformat": 4,
 "nbformat_minor": 5
}
