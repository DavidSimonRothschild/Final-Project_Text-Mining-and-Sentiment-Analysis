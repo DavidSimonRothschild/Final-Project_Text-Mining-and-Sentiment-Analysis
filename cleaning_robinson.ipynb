{
 "cells": [
  {
   "cell_type": "code",
   "execution_count": 2,
   "id": "initial_id",
   "metadata": {
    "ExecuteTime": {
     "end_time": "2023-12-25T11:10:56.979761Z",
     "start_time": "2023-12-25T11:10:56.970422Z"
    },
    "collapsed": true,
    "jupyter": {
     "outputs_hidden": true
    }
   },
   "outputs": [],
   "source": [
    "import pandas as pd\n",
    "import re"
   ]
  },
  {
   "cell_type": "markdown",
   "id": "28a27bdcd535f7ca",
   "metadata": {},
   "source": [
    "Import the data as a pandas dataframe from a csv file."
   ]
  },
  {
   "cell_type": "code",
   "execution_count": 3,
   "id": "e0e3b6c3b850c2b4",
   "metadata": {
    "ExecuteTime": {
     "end_time": "2023-12-25T11:10:57.979205Z",
     "start_time": "2023-12-25T11:10:57.941397Z"
    },
    "collapsed": false,
    "jupyter": {
     "outputs_hidden": false
    }
   },
   "outputs": [],
   "source": [
    "# import the data\n",
    "df = pd.read_csv('labeled_data_new.csv')\n"
   ]
  },
  {
   "cell_type": "code",
   "execution_count": null,
   "id": "bc6635dedfaa3ab",
   "metadata": {
    "collapsed": false,
    "jupyter": {
     "outputs_hidden": false
    }
   },
   "outputs": [],
   "source": [
    "Import Statements:\n",
    "import pandas as pd: Imports the pandas library, commonly used for data manipulation and analysis. It's not used in the provided functions.\n",
    "import re: Imports Python's regular expression library, which is used for string searching and manipulation.\n",
    "Function clean_tweet_v3:\n",
    "Purpose: Cleans a given tweet string.\n",
    "Process:\n",
    "Remove URLs: Uses a regular expression to remove any strings that start with 'http', 'www', or 'https'. The flags=re.MULTILINE ensures that the pattern is applied to each line of the string.\n",
    "Remove Special Characters, Numbers, and \"RT\": Removes exclamation marks, at symbols, hashtags, periods, digits, and the string \"RT\" (commonly used for retweets on Twitter).\n",
    "Return Cleaned Tweet: Returns the cleaned tweet string with leading and trailing white spaces removed.\n"
   ]
  },
  {
   "cell_type": "code",
   "execution_count": 4,
   "id": "f15bc6789b82d2bb",
   "metadata": {
    "ExecuteTime": {
     "end_time": "2023-12-25T11:10:58.911143Z",
     "start_time": "2023-12-25T11:10:58.906081Z"
    },
    "collapsed": false,
    "jupyter": {
     "outputs_hidden": false
    }
   },
   "outputs": [],
   "source": [
    "import pandas as pd\n",
    "import re\n",
    "\n",
    "# Function to clean the tweet\n",
    "def clean_tweet_v3(tweet):\n",
    "    # Remove URLs\n",
    "    tweet = re.sub(r'http\\S+|www\\S+|https\\S+', '', tweet, flags=re.MULTILINE)\n",
    "    # Remove specified special characters, numbers, and \"RT\"\n",
    "    tweet = re.sub(r'[!@#.\\d]|RT', '', tweet)\n",
    "    return tweet.strip()\n",
    "def clean_tweet_v3(tweet):\n",
    "    # Remove URLs\n",
    "    tweet = re.sub(r'http\\S+|www\\S+|https\\S+', '', tweet, flags=re.MULTILINE)\n",
    "    # Remove specified special characters, numbers, and \"RT\"\n",
    "    tweet = re.sub(r'[!@#.\\d]|RT', '', tweet)\n",
    "    # Remove numbers 0 to 9\n",
    "    tweet = re.sub(r'\\d', '', tweet)\n",
    "    return tweet.strip()\n",
    "\n",
    "def clean_tweet_v3(tweet):\n",
    "    # Remove URLs\n",
    "    tweet = re.sub(r'http\\S+|www\\S+|https\\S+', '', tweet, flags=re.MULTILINE)\n",
    "    # Remove specified special characters, numbers, and \"RT\"\n",
    "    tweet = re.sub(r'[!@#.\\d]|RT', '', tweet)\n",
    "    # Remove numbers 0 to 9\n",
    "    tweet = re.sub(r'[0-9]', '', tweet)\n",
    "    return tweet.strip()\n",
    "\n",
    "\n"
   ]
  },
  {
   "cell_type": "code",
   "execution_count": 5,
   "id": "a2c9086f0c578e38",
   "metadata": {
    "ExecuteTime": {
     "end_time": "2023-12-25T11:11:00.199211Z",
     "start_time": "2023-12-25T11:11:00.192612Z"
    },
    "collapsed": false,
    "jupyter": {
     "outputs_hidden": false
    }
   },
   "outputs": [
    {
     "data": {
      "text/html": [
       "<div>\n",
       "<style scoped>\n",
       "    .dataframe tbody tr th:only-of-type {\n",
       "        vertical-align: middle;\n",
       "    }\n",
       "\n",
       "    .dataframe tbody tr th {\n",
       "        vertical-align: top;\n",
       "    }\n",
       "\n",
       "    .dataframe thead th {\n",
       "        text-align: right;\n",
       "    }\n",
       "</style>\n",
       "<table border=\"1\" class=\"dataframe\">\n",
       "  <thead>\n",
       "    <tr style=\"text-align: right;\">\n",
       "      <th></th>\n",
       "      <th>Unnamed: 0</th>\n",
       "      <th>count</th>\n",
       "      <th>hate_speech</th>\n",
       "      <th>offensive_language</th>\n",
       "      <th>neither</th>\n",
       "      <th>class</th>\n",
       "      <th>tweet</th>\n",
       "    </tr>\n",
       "  </thead>\n",
       "  <tbody>\n",
       "    <tr>\n",
       "      <th>0</th>\n",
       "      <td>0</td>\n",
       "      <td>3</td>\n",
       "      <td>0</td>\n",
       "      <td>0</td>\n",
       "      <td>3</td>\n",
       "      <td>2</td>\n",
       "      <td>!!! RT @mayasolovely: As a woman you shouldn't...</td>\n",
       "    </tr>\n",
       "    <tr>\n",
       "      <th>1</th>\n",
       "      <td>1</td>\n",
       "      <td>3</td>\n",
       "      <td>0</td>\n",
       "      <td>3</td>\n",
       "      <td>0</td>\n",
       "      <td>1</td>\n",
       "      <td>!!!!! RT @mleew17: boy dats cold...tyga dwn ba...</td>\n",
       "    </tr>\n",
       "    <tr>\n",
       "      <th>2</th>\n",
       "      <td>2</td>\n",
       "      <td>3</td>\n",
       "      <td>0</td>\n",
       "      <td>3</td>\n",
       "      <td>0</td>\n",
       "      <td>1</td>\n",
       "      <td>!!!!!!! RT @UrKindOfBrand Dawg!!!! RT @80sbaby...</td>\n",
       "    </tr>\n",
       "    <tr>\n",
       "      <th>3</th>\n",
       "      <td>3</td>\n",
       "      <td>3</td>\n",
       "      <td>0</td>\n",
       "      <td>2</td>\n",
       "      <td>1</td>\n",
       "      <td>1</td>\n",
       "      <td>!!!!!!!!! RT @C_G_Anderson: @viva_based she lo...</td>\n",
       "    </tr>\n",
       "    <tr>\n",
       "      <th>4</th>\n",
       "      <td>4</td>\n",
       "      <td>6</td>\n",
       "      <td>0</td>\n",
       "      <td>6</td>\n",
       "      <td>0</td>\n",
       "      <td>1</td>\n",
       "      <td>!!!!!!!!!!!!! RT @ShenikaRoberts: The shit you...</td>\n",
       "    </tr>\n",
       "  </tbody>\n",
       "</table>\n",
       "</div>"
      ],
      "text/plain": [
       "   Unnamed: 0  count  hate_speech  offensive_language  neither  class  \\\n",
       "0           0      3            0                   0        3      2   \n",
       "1           1      3            0                   3        0      1   \n",
       "2           2      3            0                   3        0      1   \n",
       "3           3      3            0                   2        1      1   \n",
       "4           4      6            0                   6        0      1   \n",
       "\n",
       "                                               tweet  \n",
       "0  !!! RT @mayasolovely: As a woman you shouldn't...  \n",
       "1  !!!!! RT @mleew17: boy dats cold...tyga dwn ba...  \n",
       "2  !!!!!!! RT @UrKindOfBrand Dawg!!!! RT @80sbaby...  \n",
       "3  !!!!!!!!! RT @C_G_Anderson: @viva_based she lo...  \n",
       "4  !!!!!!!!!!!!! RT @ShenikaRoberts: The shit you...  "
      ]
     },
     "execution_count": 5,
     "metadata": {},
     "output_type": "execute_result"
    }
   ],
   "source": [
    "df.head()"
   ]
  },
  {
   "cell_type": "markdown",
   "id": "3a396882ad656679",
   "metadata": {},
   "source": [
    "Making subsets of the data"
   ]
  },
  {
   "cell_type": "code",
   "execution_count": 7,
   "id": "c828306731552786",
   "metadata": {
    "ExecuteTime": {
     "end_time": "2023-12-25T11:11:12.254313Z",
     "start_time": "2023-12-25T11:11:12.235386Z"
    },
    "collapsed": false,
    "jupyter": {
     "outputs_hidden": false
    }
   },
   "outputs": [],
   "source": [
    "# subset the data to only include the tweets and the label\n",
    "df_sub = df[['tweet', 'offensive_language']]"
   ]
  },
  {
   "cell_type": "markdown",
   "id": "5a9e11eef401c907",
   "metadata": {},
   "source": [
    "Building dichotomous labels\n"
   ]
  },
  {
   "cell_type": "code",
   "execution_count": 8,
   "id": "6c3cc94d226055a6",
   "metadata": {
    "ExecuteTime": {
     "end_time": "2023-12-25T11:11:12.945363Z",
     "start_time": "2023-12-25T11:11:12.908382Z"
    },
    "collapsed": false,
    "jupyter": {
     "outputs_hidden": false
    }
   },
   "outputs": [
    {
     "name": "stderr",
     "output_type": "stream",
     "text": [
      "/var/folders/wd/fzj4fynx73l9ts0177tlxx2h0000gn/T/ipykernel_41784/1333284418.py:2: SettingWithCopyWarning: \n",
      "A value is trying to be set on a copy of a slice from a DataFrame.\n",
      "Try using .loc[row_indexer,col_indexer] = value instead\n",
      "\n",
      "See the caveats in the documentation: https://pandas.pydata.org/pandas-docs/stable/user_guide/indexing.html#returning-a-view-versus-a-copy\n",
      "  df_sub['offensive_language'] = df_sub['offensive_language'].apply(lambda x: 0 if x == 0 else 1)\n"
     ]
    }
   ],
   "source": [
    "# recode if 0 then 0 else 1\n",
    "df_sub['offensive_language'] = df_sub['offensive_language'].apply(lambda x: 0 if x == 0 else 1)\n"
   ]
  },
  {
   "cell_type": "code",
   "execution_count": 9,
   "id": "f407a5d294e4a8c",
   "metadata": {
    "ExecuteTime": {
     "end_time": "2023-12-25T11:11:13.757235Z",
     "start_time": "2023-12-25T11:11:13.749499Z"
    },
    "collapsed": false,
    "jupyter": {
     "outputs_hidden": false
    }
   },
   "outputs": [
    {
     "data": {
      "text/html": [
       "<div>\n",
       "<style scoped>\n",
       "    .dataframe tbody tr th:only-of-type {\n",
       "        vertical-align: middle;\n",
       "    }\n",
       "\n",
       "    .dataframe tbody tr th {\n",
       "        vertical-align: top;\n",
       "    }\n",
       "\n",
       "    .dataframe thead th {\n",
       "        text-align: right;\n",
       "    }\n",
       "</style>\n",
       "<table border=\"1\" class=\"dataframe\">\n",
       "  <thead>\n",
       "    <tr style=\"text-align: right;\">\n",
       "      <th></th>\n",
       "      <th>tweet</th>\n",
       "      <th>offensive_language</th>\n",
       "    </tr>\n",
       "  </thead>\n",
       "  <tbody>\n",
       "    <tr>\n",
       "      <th>0</th>\n",
       "      <td>!!! RT @mayasolovely: As a woman you shouldn't...</td>\n",
       "      <td>0</td>\n",
       "    </tr>\n",
       "    <tr>\n",
       "      <th>1</th>\n",
       "      <td>!!!!! RT @mleew17: boy dats cold...tyga dwn ba...</td>\n",
       "      <td>1</td>\n",
       "    </tr>\n",
       "    <tr>\n",
       "      <th>2</th>\n",
       "      <td>!!!!!!! RT @UrKindOfBrand Dawg!!!! RT @80sbaby...</td>\n",
       "      <td>1</td>\n",
       "    </tr>\n",
       "    <tr>\n",
       "      <th>3</th>\n",
       "      <td>!!!!!!!!! RT @C_G_Anderson: @viva_based she lo...</td>\n",
       "      <td>1</td>\n",
       "    </tr>\n",
       "    <tr>\n",
       "      <th>4</th>\n",
       "      <td>!!!!!!!!!!!!! RT @ShenikaRoberts: The shit you...</td>\n",
       "      <td>1</td>\n",
       "    </tr>\n",
       "    <tr>\n",
       "      <th>...</th>\n",
       "      <td>...</td>\n",
       "      <td>...</td>\n",
       "    </tr>\n",
       "    <tr>\n",
       "      <th>9995</th>\n",
       "      <td>I ain't trying to fuck, bitch. I just want wings.</td>\n",
       "      <td>1</td>\n",
       "    </tr>\n",
       "    <tr>\n",
       "      <th>9996</th>\n",
       "      <td>I aint mad at you bitches thats what hoes do</td>\n",
       "      <td>1</td>\n",
       "    </tr>\n",
       "    <tr>\n",
       "      <th>9997</th>\n",
       "      <td>I aint mad at you, thats what hoes do</td>\n",
       "      <td>1</td>\n",
       "    </tr>\n",
       "    <tr>\n",
       "      <th>9998</th>\n",
       "      <td>I aint never had a prob with no other bitch ov...</td>\n",
       "      <td>1</td>\n",
       "    </tr>\n",
       "    <tr>\n",
       "      <th>9999</th>\n",
       "      <td>I aint no killa but dont push me, revenge is t...</td>\n",
       "      <td>1</td>\n",
       "    </tr>\n",
       "  </tbody>\n",
       "</table>\n",
       "<p>10000 rows × 2 columns</p>\n",
       "</div>"
      ],
      "text/plain": [
       "                                                  tweet  offensive_language\n",
       "0     !!! RT @mayasolovely: As a woman you shouldn't...                   0\n",
       "1     !!!!! RT @mleew17: boy dats cold...tyga dwn ba...                   1\n",
       "2     !!!!!!! RT @UrKindOfBrand Dawg!!!! RT @80sbaby...                   1\n",
       "3     !!!!!!!!! RT @C_G_Anderson: @viva_based she lo...                   1\n",
       "4     !!!!!!!!!!!!! RT @ShenikaRoberts: The shit you...                   1\n",
       "...                                                 ...                 ...\n",
       "9995  I ain't trying to fuck, bitch. I just want wings.                   1\n",
       "9996       I aint mad at you bitches thats what hoes do                   1\n",
       "9997              I aint mad at you, thats what hoes do                   1\n",
       "9998  I aint never had a prob with no other bitch ov...                   1\n",
       "9999  I aint no killa but dont push me, revenge is t...                   1\n",
       "\n",
       "[10000 rows x 2 columns]"
      ]
     },
     "execution_count": 9,
     "metadata": {},
     "output_type": "execute_result"
    }
   ],
   "source": [
    "df_sub.head(10000)"
   ]
  },
  {
   "cell_type": "markdown",
   "id": "893a3f78b1bf0946",
   "metadata": {},
   "source": [
    "Plotting the distribution of the labels as a bar chart."
   ]
  },
  {
   "cell_type": "code",
   "execution_count": 10,
   "id": "fbfa06ee75bc4fe0",
   "metadata": {
    "ExecuteTime": {
     "end_time": "2023-12-25T11:11:14.847585Z",
     "start_time": "2023-12-25T11:11:14.689185Z"
    },
    "collapsed": false,
    "jupyter": {
     "outputs_hidden": false
    }
   },
   "outputs": [
    {
     "data": {
      "text/plain": [
       "<Axes: xlabel='offensive_language'>"
      ]
     },
     "execution_count": 10,
     "metadata": {},
     "output_type": "execute_result"
    },
    {
     "data": {
      "image/png": "[encoded data removed]",
      "text/plain": [
       "<Figure size 432x288 with 1 Axes>"
      ]
     },
     "metadata": {
      "needs_background": "light"
     },
     "output_type": "display_data"
    }
   ],
   "source": [
    "# plot the distribution of the hate speech label\n",
    "df_sub['offensive_language'].value_counts().plot(kind='bar')\n"
   ]
  },
  {
   "cell_type": "markdown",
   "id": "98165415da1e8933",
   "metadata": {},
   "source": [
    "Exporting the subsetted data as a csv file."
   ]
  },
  {
   "cell_type": "code",
   "execution_count": 11,
   "id": "74b5fa01947d132e",
   "metadata": {
    "ExecuteTime": {
     "end_time": "2023-12-25T11:11:17.784729Z",
     "start_time": "2023-12-25T11:11:17.736254Z"
    },
    "collapsed": false,
    "jupyter": {
     "outputs_hidden": false
    }
   },
   "outputs": [],
   "source": [
    "# save a csv file of the subsetted data\n",
    "df_sub.to_csv('labeled_data_subset.csv', index=True)"
   ]
  },
  {
   "cell_type": "code",
   "execution_count": null,
   "id": "20ad32646d8e9be0",
   "metadata": {
    "collapsed": false,
    "jupyter": {
     "outputs_hidden": false
    }
   },
   "outputs": [],
   "source": []
  }
 ],
 "metadata": {
  "kernelspec": {
   "display_name": "Python 3 (ipykernel)",
   "language": "python",
   "name": "python3"
  },
  "language_info": {
   "codemirror_mode": {
    "name": "ipython",
    "version": 3
   },
   "file_extension": ".py",
   "mimetype": "text/x-python",
   "name": "python",
   "nbconvert_exporter": "python",
   "pygments_lexer": "ipython3",
   "version": "3.9.7"
  }
 },
 "nbformat": 4,
 "nbformat_minor": 5
}
