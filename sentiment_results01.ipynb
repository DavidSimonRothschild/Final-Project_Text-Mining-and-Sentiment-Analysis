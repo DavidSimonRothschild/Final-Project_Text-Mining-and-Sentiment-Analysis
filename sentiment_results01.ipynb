{
 "cells": [
  {
   "cell_type": "code",
   "execution_count": 4,
   "outputs": [],
   "source": [
    "import pandas as pd\n",
    "import numpy as np\n",
    "import matplotlib.pyplot as plt\n"
   ],
   "metadata": {
    "collapsed": false,
    "ExecuteTime": {
     "end_time": "2023-12-26T19:34:54.705423Z",
     "start_time": "2023-12-26T19:34:54.700935Z"
    }
   },
   "id": "28e964a136d5ca60"
  },
  {
   "cell_type": "markdown",
   "source": [
    "I analyzed the results after aplying my BERT Model."
   ],
   "metadata": {
    "collapsed": false
   },
   "id": "5d79b3256006b325"
  },
  {
   "cell_type": "code",
   "execution_count": 5,
   "id": "initial_id",
   "metadata": {
    "collapsed": true,
    "ExecuteTime": {
     "end_time": "2023-12-26T19:34:55.567694Z",
     "start_time": "2023-12-26T19:34:55.474888Z"
    }
   },
   "outputs": [],
   "source": [
    "# Read in the data\n",
    "df = pd.read_csv('sentiment_results1.csv')"
   ]
  },
  {
   "cell_type": "code",
   "execution_count": 6,
   "outputs": [
    {
     "data": {
      "text/plain": "   Unnamed: 0                                               text    result\n0      153362  arizona and wisconsin calling for decertification  Positive\n1      678099  redpillrevolt  just out of curiosity why follo...  Positive\n2       19509  appreciate the ride  pissedtxvet  i have an of...  Positive\n3      263631  her fake story that i tried to  grab the steer...  Positive\n4      476942                                    homeschool now   Positive",
      "text/html": "<div>\n<style scoped>\n    .dataframe tbody tr th:only-of-type {\n        vertical-align: middle;\n    }\n\n    .dataframe tbody tr th {\n        vertical-align: top;\n    }\n\n    .dataframe thead th {\n        text-align: right;\n    }\n</style>\n<table border=\"1\" class=\"dataframe\">\n  <thead>\n    <tr style=\"text-align: right;\">\n      <th></th>\n      <th>Unnamed: 0</th>\n      <th>text</th>\n      <th>result</th>\n    </tr>\n  </thead>\n  <tbody>\n    <tr>\n      <th>0</th>\n      <td>153362</td>\n      <td>arizona and wisconsin calling for decertification</td>\n      <td>Positive</td>\n    </tr>\n    <tr>\n      <th>1</th>\n      <td>678099</td>\n      <td>redpillrevolt  just out of curiosity why follo...</td>\n      <td>Positive</td>\n    </tr>\n    <tr>\n      <th>2</th>\n      <td>19509</td>\n      <td>appreciate the ride  pissedtxvet  i have an of...</td>\n      <td>Positive</td>\n    </tr>\n    <tr>\n      <th>3</th>\n      <td>263631</td>\n      <td>her fake story that i tried to  grab the steer...</td>\n      <td>Positive</td>\n    </tr>\n    <tr>\n      <th>4</th>\n      <td>476942</td>\n      <td>homeschool now</td>\n      <td>Positive</td>\n    </tr>\n  </tbody>\n</table>\n</div>"
     },
     "execution_count": 6,
     "metadata": {},
     "output_type": "execute_result"
    }
   ],
   "source": [
    "df.head()"
   ],
   "metadata": {
    "collapsed": false,
    "ExecuteTime": {
     "end_time": "2023-12-26T19:35:04.648402Z",
     "start_time": "2023-12-26T19:35:04.642153Z"
    }
   },
   "id": "b920a32e14c23e9"
  },
  {
   "cell_type": "markdown",
   "source": [
    "I plotted the distribution of the results."
   ],
   "metadata": {
    "collapsed": false
   },
   "id": "7bf7fb1d7fa10401"
  },
  {
   "cell_type": "code",
   "execution_count": 9,
   "outputs": [
    {
     "data": {
      "text/plain": "<Figure size 432x288 with 1 Axes>",
      "image/png": "[encoded data removed]"
     },
     "metadata": {
      "needs_background": "light"
     },
     "output_type": "display_data"
    }
   ],
   "source": [
    "# plot distribution of result from df\n",
    "plt.hist(df['result'], bins=20)\n",
    "plt.show()\n"
   ],
   "metadata": {
    "collapsed": false,
    "ExecuteTime": {
     "end_time": "2023-12-26T19:36:11.820803Z",
     "start_time": "2023-12-26T19:36:11.686371Z"
    }
   },
   "id": "47fca2545cbad523"
  },
  {
   "cell_type": "markdown",
   "source": [
    "I inspected the distribution of the results."
   ],
   "metadata": {
    "collapsed": false
   },
   "id": "80cb6a0a4d227ea0"
  },
  {
   "cell_type": "code",
   "execution_count": 10,
   "outputs": [
    {
     "data": {
      "text/plain": "result\nPositive    73914\nNegative       59\nName: count, dtype: int64"
     },
     "execution_count": 10,
     "metadata": {},
     "output_type": "execute_result"
    }
   ],
   "source": [
    "# make a table of the counts of each result\n",
    "df['result'].value_counts()\n"
   ],
   "metadata": {
    "collapsed": false,
    "ExecuteTime": {
     "end_time": "2023-12-26T19:36:32.028192Z",
     "start_time": "2023-12-26T19:36:32.020157Z"
    }
   },
   "id": "5a796442589150a"
  },
  {
   "cell_type": "code",
   "execution_count": 11,
   "outputs": [
    {
     "name": "stdout",
     "output_type": "stream",
     "text": [
      "Requirement already satisfied: seaborn in /Users/davidrothschild/Library/r-miniconda-arm64/lib/python3.9/site-packages (0.12.2)\r\n",
      "\u001B[31mERROR: Could not find a version that satisfies the requirement as (from versions: none)\u001B[0m\u001B[31m\r\n",
      "\u001B[0m\u001B[31mERROR: No matching distribution found for as\u001B[0m\u001B[31m\r\n",
      "\u001B[0m\u001B[33mWARNING: There was an error checking the latest version of pip.\u001B[0m\u001B[33m\r\n",
      "\u001B[0m"
     ]
    }
   ],
   "source": [],
   "metadata": {
    "collapsed": false,
    "ExecuteTime": {
     "end_time": "2023-12-26T19:38:35.878454Z",
     "start_time": "2023-12-26T19:38:35.071452Z"
    }
   },
   "id": "8d607d1b81dce3d4"
  },
  {
   "cell_type": "code",
   "execution_count": null,
   "outputs": [],
   "source": [],
   "metadata": {
    "collapsed": false
   },
   "id": "70acbcf54ceab5ec"
  }
 ],
 "metadata": {
  "kernelspec": {
   "display_name": "Python 3",
   "language": "python",
   "name": "python3"
  },
  "language_info": {
   "codemirror_mode": {
    "name": "ipython",
    "version": 2
   },
   "file_extension": ".py",
   "mimetype": "text/x-python",
   "name": "python",
   "nbconvert_exporter": "python",
   "pygments_lexer": "ipython2",
   "version": "2.7.6"
  }
 },
 "nbformat": 4,
 "nbformat_minor": 5
}
