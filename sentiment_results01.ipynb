{
 "cells": [
  {
   "cell_type": "code",
   "execution_count": 4,
   "id": "28e964a136d5ca60",
   "metadata": {
    "ExecuteTime": {
     "end_time": "2023-12-26T19:34:54.705423Z",
     "start_time": "2023-12-26T19:34:54.700935Z"
    },
    "collapsed": false,
    "jupyter": {
     "outputs_hidden": false
    }
   },
   "outputs": [],
   "source": [
    "import pandas as pd\n",
    "import numpy as np\n",
    "import matplotlib.pyplot as plt\n"
   ]
  },
  {
   "cell_type": "markdown",
   "id": "5d79b3256006b325",
   "metadata": {},
   "source": [
    "I analyzed the results after aplying my BERT Model."
   ]
  },
  {
   "cell_type": "code",
   "execution_count": 5,
   "id": "initial_id",
   "metadata": {
    "ExecuteTime": {
     "end_time": "2023-12-26T19:34:55.567694Z",
     "start_time": "2023-12-26T19:34:55.474888Z"
    },
    "collapsed": true,
    "jupyter": {
     "outputs_hidden": true
    }
   },
   "outputs": [],
   "source": [
    "# Read in the data\n",
    "df = pd.read_csv('sentiment_results1.csv')"
   ]
  },
  {
   "cell_type": "code",
   "execution_count": 6,
   "id": "b920a32e14c23e9",
   "metadata": {
    "ExecuteTime": {
     "end_time": "2023-12-26T19:35:04.648402Z",
     "start_time": "2023-12-26T19:35:04.642153Z"
    },
    "collapsed": false,
    "jupyter": {
     "outputs_hidden": false
    }
   },
   "outputs": [
    {
     "data": {
      "text/html": [
       "<div>\n",
       "<style scoped>\n",
       "    .dataframe tbody tr th:only-of-type {\n",
       "        vertical-align: middle;\n",
       "    }\n",
       "\n",
       "    .dataframe tbody tr th {\n",
       "        vertical-align: top;\n",
       "    }\n",
       "\n",
       "    .dataframe thead th {\n",
       "        text-align: right;\n",
       "    }\n",
       "</style>\n",
       "<table border=\"1\" class=\"dataframe\">\n",
       "  <thead>\n",
       "    <tr style=\"text-align: right;\">\n",
       "      <th></th>\n",
       "      <th>Unnamed: 0</th>\n",
       "      <th>text</th>\n",
       "      <th>result</th>\n",
       "    </tr>\n",
       "  </thead>\n",
       "  <tbody>\n",
       "    <tr>\n",
       "      <th>0</th>\n",
       "      <td>153362</td>\n",
       "      <td>arizona and wisconsin calling for decertification</td>\n",
       "      <td>Positive</td>\n",
       "    </tr>\n",
       "    <tr>\n",
       "      <th>1</th>\n",
       "      <td>678099</td>\n",
       "      <td>redpillrevolt  just out of curiosity why follo...</td>\n",
       "      <td>Positive</td>\n",
       "    </tr>\n",
       "    <tr>\n",
       "      <th>2</th>\n",
       "      <td>19509</td>\n",
       "      <td>appreciate the ride  pissedtxvet  i have an of...</td>\n",
       "      <td>Positive</td>\n",
       "    </tr>\n",
       "    <tr>\n",
       "      <th>3</th>\n",
       "      <td>263631</td>\n",
       "      <td>her fake story that i tried to  grab the steer...</td>\n",
       "      <td>Positive</td>\n",
       "    </tr>\n",
       "    <tr>\n",
       "      <th>4</th>\n",
       "      <td>476942</td>\n",
       "      <td>homeschool now</td>\n",
       "      <td>Positive</td>\n",
       "    </tr>\n",
       "  </tbody>\n",
       "</table>\n",
       "</div>"
      ],
      "text/plain": [
       "   Unnamed: 0                                               text    result\n",
       "0      153362  arizona and wisconsin calling for decertification  Positive\n",
       "1      678099  redpillrevolt  just out of curiosity why follo...  Positive\n",
       "2       19509  appreciate the ride  pissedtxvet  i have an of...  Positive\n",
       "3      263631  her fake story that i tried to  grab the steer...  Positive\n",
       "4      476942                                    homeschool now   Positive"
      ]
     },
     "execution_count": 6,
     "metadata": {},
     "output_type": "execute_result"
    }
   ],
   "source": [
    "df.head()"
   ]
  },
  {
   "cell_type": "markdown",
   "id": "7bf7fb1d7fa10401",
   "metadata": {},
   "source": [
    "I plotted the distribution of the results."
   ]
  },
  {
   "cell_type": "code",
   "execution_count": 9,
   "id": "47fca2545cbad523",
   "metadata": {
    "ExecuteTime": {
     "end_time": "2023-12-26T19:36:11.820803Z",
     "start_time": "2023-12-26T19:36:11.686371Z"
    },
    "collapsed": false,
    "jupyter": {
     "outputs_hidden": false
    }
   },
   "outputs": [
    {
     "data": {
      "image/png": "[encoded data removed]",
      "text/plain": [
       "<Figure size 432x288 with 1 Axes>"
      ]
     },
     "metadata": {
      "needs_background": "light"
     },
     "output_type": "display_data"
    }
   ],
   "source": [
    "# plot distribution of result from df\n",
    "plt.hist(df['result'], bins=20)\n",
    "plt.show()\n"
   ]
  },
  {
   "cell_type": "markdown",
   "id": "80cb6a0a4d227ea0",
   "metadata": {},
   "source": [
    "I inspected the distribution of the results."
   ]
  },
  {
   "cell_type": "code",
   "execution_count": 10,
   "id": "5a796442589150a",
   "metadata": {
    "ExecuteTime": {
     "end_time": "2023-12-26T19:36:32.028192Z",
     "start_time": "2023-12-26T19:36:32.020157Z"
    },
    "collapsed": false,
    "jupyter": {
     "outputs_hidden": false
    }
   },
   "outputs": [
    {
     "data": {
      "text/plain": [
       "result\n",
       "Positive    73914\n",
       "Negative       59\n",
       "Name: count, dtype: int64"
      ]
     },
     "execution_count": 10,
     "metadata": {},
     "output_type": "execute_result"
    }
   ],
   "source": [
    "# make a table of the counts of each result\n",
    "df['result'].value_counts()\n"
   ]
  },
  {
   "cell_type": "code",
   "execution_count": 11,
   "id": "8d607d1b81dce3d4",
   "metadata": {
    "ExecuteTime": {
     "end_time": "2023-12-26T19:38:35.878454Z",
     "start_time": "2023-12-26T19:38:35.071452Z"
    },
    "collapsed": false,
    "jupyter": {
     "outputs_hidden": false
    }
   },
   "outputs": [
    {
     "name": "stdout",
     "output_type": "stream",
     "text": [
      "Requirement already satisfied: seaborn in /Users/davidrothschild/Library/r-miniconda-arm64/lib/python3.9/site-packages (0.12.2)\n",
      "\u001b[31mERROR: Could not find a version that satisfies the requirement as (from versions: none)\u001b[0m\u001b[31m\n",
      "\u001b[0m\u001b[31mERROR: No matching distribution found for as\u001b[0m\u001b[31m\n",
      "\u001b[0m\u001b[33mWARNING: There was an error checking the latest version of pip.\u001b[0m\u001b[33m\n",
      "\u001b[0m"
     ]
    }
   ],
   "source": []
  },
  {
   "cell_type": "code",
   "execution_count": null,
   "id": "70acbcf54ceab5ec",
   "metadata": {
    "collapsed": false,
    "jupyter": {
     "outputs_hidden": false
    }
   },
   "outputs": [],
   "source": []
  }
 ],
 "metadata": {
  "kernelspec": {
   "display_name": "Python 3 (ipykernel)",
   "language": "python",
   "name": "python3"
  },
  "language_info": {
   "codemirror_mode": {
    "name": "ipython",
    "version": 3
   },
   "file_extension": ".py",
   "mimetype": "text/x-python",
   "name": "python",
   "nbconvert_exporter": "python",
   "pygments_lexer": "ipython3",
   "version": "3.9.7"
  }
 },
 "nbformat": 4,
 "nbformat_minor": 5
}
