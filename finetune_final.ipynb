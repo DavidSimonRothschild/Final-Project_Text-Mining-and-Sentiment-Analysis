{
 "cells": [
  {
   "cell_type": "code",
   "execution_count": 1,
   "id": "initial_id",
   "metadata": {
    "ExecuteTime": {
     "end_time": "2023-12-27T21:00:06.207029Z",
     "start_time": "2023-12-27T21:00:02.403258Z"
    },
    "collapsed": true,
    "jupyter": {
     "outputs_hidden": true
    }
   },
   "outputs": [],
   "source": [
    "# Data processing\n",
    "import pandas as pd\n",
    "import numpy as np\n",
    "\n",
    "# Train test split\n",
    "from sklearn.model_selection import train_test_split\n",
    "\n",
    "# Modeling\n",
    "import tensorflow as tf\n",
    "from tensorflow.keras.optimizers import Adam\n",
    "from transformers import AutoTokenizer, TFAutoModelForSequenceClassification\n",
    "\n",
    "# Import accuracy_score to check performance\n",
    "from sklearn.metrics import accuracy_score"
   ]
  },
  {
   "cell_type": "markdown",
   "id": "23398ea4dcf92eca",
   "metadata": {},
   "source": [
    "Importing the data"
   ]
  },
  {
   "cell_type": "code",
   "execution_count": 2,
   "id": "85aa3b61dd3dde8a",
   "metadata": {
    "ExecuteTime": {
     "end_time": "2023-12-27T21:00:06.233793Z",
     "start_time": "2023-12-27T21:00:06.208752Z"
    },
    "collapsed": false,
    "jupyter": {
     "outputs_hidden": false
    }
   },
   "outputs": [],
   "source": [
    "data=pd.read_csv(\"labeled_data_new.csv\",names=['count','hate_speech','offensive_language','neither','class','tweet'])"
   ]
  },
  {
   "cell_type": "markdown",
   "id": "4a4bf1eb125ee5a9",
   "metadata": {},
   "source": []
  },
  {
   "cell_type": "code",
   "execution_count": 3,
   "id": "cb56503f291dfac1",
   "metadata": {
    "ExecuteTime": {
     "end_time": "2023-12-27T21:00:07.657528Z",
     "start_time": "2023-12-27T21:00:07.651135Z"
    },
    "collapsed": false,
    "jupyter": {
     "outputs_hidden": false
    }
   },
   "outputs": [
    {
     "data": {
      "text/html": [
       "<div>\n",
       "<style scoped>\n",
       "    .dataframe tbody tr th:only-of-type {\n",
       "        vertical-align: middle;\n",
       "    }\n",
       "\n",
       "    .dataframe tbody tr th {\n",
       "        vertical-align: top;\n",
       "    }\n",
       "\n",
       "    .dataframe thead th {\n",
       "        text-align: right;\n",
       "    }\n",
       "</style>\n",
       "<table border=\"1\" class=\"dataframe\">\n",
       "  <thead>\n",
       "    <tr style=\"text-align: right;\">\n",
       "      <th></th>\n",
       "      <th>count</th>\n",
       "      <th>hate_speech</th>\n",
       "      <th>offensive_language</th>\n",
       "      <th>neither</th>\n",
       "      <th>class</th>\n",
       "      <th>tweet</th>\n",
       "    </tr>\n",
       "  </thead>\n",
       "  <tbody>\n",
       "    <tr>\n",
       "      <th>0</th>\n",
       "      <td>count</td>\n",
       "      <td>hate_speech</td>\n",
       "      <td>offensive_language</td>\n",
       "      <td>neither</td>\n",
       "      <td>class</td>\n",
       "      <td>tweet</td>\n",
       "    </tr>\n",
       "    <tr>\n",
       "      <th>1</th>\n",
       "      <td>3</td>\n",
       "      <td>0</td>\n",
       "      <td>0</td>\n",
       "      <td>3</td>\n",
       "      <td>2</td>\n",
       "      <td>as a woman you shouldnt complain about clea...</td>\n",
       "    </tr>\n",
       "    <tr>\n",
       "      <th>2</th>\n",
       "      <td>3</td>\n",
       "      <td>0</td>\n",
       "      <td>3</td>\n",
       "      <td>0</td>\n",
       "      <td>1</td>\n",
       "      <td>boy dats coldtyga dwn bad for cuffin dat ho...</td>\n",
       "    </tr>\n",
       "    <tr>\n",
       "      <th>3</th>\n",
       "      <td>3</td>\n",
       "      <td>0</td>\n",
       "      <td>3</td>\n",
       "      <td>0</td>\n",
       "      <td>1</td>\n",
       "      <td>dawg   you ever fuck a bitch and she start ...</td>\n",
       "    </tr>\n",
       "    <tr>\n",
       "      <th>4</th>\n",
       "      <td>3</td>\n",
       "      <td>0</td>\n",
       "      <td>2</td>\n",
       "      <td>1</td>\n",
       "      <td>1</td>\n",
       "      <td>she look like a tranny</td>\n",
       "    </tr>\n",
       "  </tbody>\n",
       "</table>\n",
       "</div>"
      ],
      "text/plain": [
       "   count  hate_speech  offensive_language  neither  class  \\\n",
       "0  count  hate_speech  offensive_language  neither  class   \n",
       "1      3            0                   0        3      2   \n",
       "2      3            0                   3        0      1   \n",
       "3      3            0                   3        0      1   \n",
       "4      3            0                   2        1      1   \n",
       "\n",
       "                                               tweet  \n",
       "0                                              tweet  \n",
       "1     as a woman you shouldnt complain about clea...  \n",
       "2     boy dats coldtyga dwn bad for cuffin dat ho...  \n",
       "3     dawg   you ever fuck a bitch and she start ...  \n",
       "4                             she look like a tranny  "
      ]
     },
     "execution_count": 3,
     "metadata": {},
     "output_type": "execute_result"
    }
   ],
   "source": [
    "data.head()\n",
    "\n",
    "\n",
    "\n",
    "\n",
    "\n"
   ]
  },
  {
   "cell_type": "code",
   "execution_count": 4,
   "id": "a537f3b0ea17c18f",
   "metadata": {
    "ExecuteTime": {
     "end_time": "2023-12-27T21:00:08.424731Z",
     "start_time": "2023-12-27T21:00:08.418867Z"
    },
    "collapsed": false,
    "jupyter": {
     "outputs_hidden": false
    }
   },
   "outputs": [],
   "source": [
    "# Split data into train and test sets\n",
    "train_text, test_text, train_labels, test_labels = train_test_split(data['offensive_language'], data['offensive_language'], test_size=.2)\n"
   ]
  },
  {
   "cell_type": "code",
   "execution_count": 5,
   "id": "6d6303dca0c3ccef",
   "metadata": {
    "ExecuteTime": {
     "end_time": "2023-12-27T21:00:08.932312Z",
     "start_time": "2023-12-27T21:00:08.923891Z"
    },
    "collapsed": false,
    "jupyter": {
     "outputs_hidden": false
    }
   },
   "outputs": [],
   "source": [
    "# aplit to train and test\n",
    "X_train, X_test, y_train, y_test = train_test_split(data['offensive_language'], data['offensive_language'], test_size=.2)\n"
   ]
  },
  {
   "cell_type": "code",
   "execution_count": 6,
   "id": "d62400fce654c00d",
   "metadata": {
    "ExecuteTime": {
     "end_time": "2023-12-27T21:00:10.210883Z",
     "start_time": "2023-12-27T21:00:09.470003Z"
    },
    "collapsed": false,
    "jupyter": {
     "outputs_hidden": false
    }
   },
   "outputs": [
    {
     "name": "stdout",
     "output_type": "stream",
     "text": [
      "[101 124 102   0   0]\n"
     ]
    }
   ],
   "source": [
    "# Convert X_train and X_test to lists of strings if they are not already\n",
    "# Tokenizer from a pretrained model\n",
    "tokenizer = AutoTokenizer.from_pretrained(\"bert-base-cased\")\n",
    "#should be the same name from hugging face library\n",
    "\n",
    "# Tokenize the reviews\n",
    "tokenized_data_train = tokenizer(X_train.to_list(), return_tensors=\"np\", padding=True)\n",
    "tokenized_data_test = tokenizer(X_test.to_list(), return_tensors=\"np\", padding=True)\n",
    "\n",
    "# Labels are one-dimensional numpy or tensorflow array of integers\n",
    "labels_train = np.array(y_train)\n",
    "labels_test = np.array(y_test)\n",
    "\n",
    "# Tokenized ids\n",
    "print(tokenized_data_train[\"input_ids\"][0])"
   ]
  },
  {
   "cell_type": "code",
   "execution_count": 7,
   "id": "3d8fe17136d1aa10",
   "metadata": {
    "ExecuteTime": {
     "end_time": "2023-12-27T21:00:12.278209Z",
     "start_time": "2023-12-27T21:00:10.211756Z"
    },
    "collapsed": false,
    "jupyter": {
     "outputs_hidden": false
    }
   },
   "outputs": [
    {
     "name": "stderr",
     "output_type": "stream",
     "text": [
      "All PyTorch model weights were used when initializing TFBertForSequenceClassification.\n",
      "\n",
      "Some weights or buffers of the TF 2.0 model TFBertForSequenceClassification were not initialized from the PyTorch model and are newly initialized: ['classifier.weight', 'classifier.bias']\n",
      "You should probably TRAIN this model on a down-stream task to be able to use it for predictions and inference.\n"
     ]
    }
   ],
   "source": [
    "model = TFAutoModelForSequenceClassification.from_pretrained(\"bert-base-cased\", num_labels=2)"
   ]
  },
  {
   "cell_type": "code",
   "execution_count": 8,
   "id": "6f6be185922ffd8b",
   "metadata": {
    "ExecuteTime": {
     "end_time": "2023-12-27T21:00:12.285371Z",
     "start_time": "2023-12-27T21:00:12.276575Z"
    },
    "collapsed": false,
    "jupyter": {
     "outputs_hidden": false
    }
   },
   "outputs": [
    {
     "name": "stderr",
     "output_type": "stream",
     "text": [
      "WARNING:absl:At this time, the v2.11+ optimizer `tf.keras.optimizers.Adam` runs slowly on M1/M2 Macs, please use the legacy Keras optimizer instead, located at `tf.keras.optimizers.legacy.Adam`.\n"
     ]
    }
   ],
   "source": [
    "# Loss\n",
    "loss = tf.keras.losses.SparseCategoricalCrossentropy(from_logits=True)\n",
    "\n",
    "# Compile model\n",
    "model.compile(optimizer=Adam(5e-6), loss=loss, metrics=['accuracy'])"
   ]
  },
  {
   "cell_type": "code",
   "execution_count": 10,
   "id": "225060374848ef30",
   "metadata": {
    "ExecuteTime": {
     "end_time": "2023-12-27T21:01:55.602298Z",
     "start_time": "2023-12-27T21:01:55.413178Z"
    },
    "collapsed": false,
    "jupyter": {
     "outputs_hidden": false
    }
   },
   "outputs": [
    {
     "name": "stdout",
     "output_type": "stream",
     "text": [
      "Epoch 1/2\n"
     ]
    },
    {
     "name": "stderr",
     "output_type": "stream",
     "text": [
      "2023-12-27 22:01:55.482554: W tensorflow/core/framework/op_kernel.cc:1816] OP_REQUIRES failed at cast_op.cc:122 : UNIMPLEMENTED: Cast string to float is not supported\n"
     ]
    },
    {
     "ename": "UnimplementedError",
     "evalue": "Graph execution error:\n\nDetected at node Cast_1 defined at (most recent call last):\n  File \"/Users/davidrothschild/Library/r-miniconda-arm64/lib/python3.9/runpy.py\", line 197, in _run_module_as_main\n\n  File \"/Users/davidrothschild/Library/r-miniconda-arm64/lib/python3.9/runpy.py\", line 87, in _run_code\n\n  File \"/Users/davidrothschild/Library/r-miniconda-arm64/lib/python3.9/site-packages/ipykernel_launcher.py\", line 16, in <module>\n\n  File \"/Users/davidrothschild/Library/r-miniconda-arm64/lib/python3.9/site-packages/traitlets/config/application.py\", line 846, in launch_instance\n\n  File \"/Users/davidrothschild/Library/r-miniconda-arm64/lib/python3.9/site-packages/ipykernel/kernelapp.py\", line 677, in start\n\n  File \"/Users/davidrothschild/Library/r-miniconda-arm64/lib/python3.9/site-packages/tornado/platform/asyncio.py\", line 199, in start\n\n  File \"/Users/davidrothschild/Library/r-miniconda-arm64/lib/python3.9/asyncio/base_events.py\", line 596, in run_forever\n\n  File \"/Users/davidrothschild/Library/r-miniconda-arm64/lib/python3.9/asyncio/base_events.py\", line 1890, in _run_once\n\n  File \"/Users/davidrothschild/Library/r-miniconda-arm64/lib/python3.9/asyncio/events.py\", line 80, in _run\n\n  File \"/Users/davidrothschild/Library/r-miniconda-arm64/lib/python3.9/site-packages/ipykernel/kernelbase.py\", line 471, in dispatch_queue\n\n  File \"/Users/davidrothschild/Library/r-miniconda-arm64/lib/python3.9/site-packages/ipykernel/kernelbase.py\", line 460, in process_one\n\n  File \"/Users/davidrothschild/Library/r-miniconda-arm64/lib/python3.9/site-packages/ipykernel/kernelbase.py\", line 367, in dispatch_shell\n\n  File \"/Users/davidrothschild/Library/r-miniconda-arm64/lib/python3.9/site-packages/ipykernel/kernelbase.py\", line 662, in execute_request\n\n  File \"/Users/davidrothschild/Library/r-miniconda-arm64/lib/python3.9/site-packages/ipykernel/ipkernel.py\", line 360, in do_execute\n\n  File \"/Users/davidrothschild/Library/r-miniconda-arm64/lib/python3.9/site-packages/ipykernel/zmqshell.py\", line 532, in run_cell\n\n  File \"/Users/davidrothschild/Library/r-miniconda-arm64/lib/python3.9/site-packages/IPython/core/interactiveshell.py\", line 2768, in run_cell\n\n  File \"/Users/davidrothschild/Library/r-miniconda-arm64/lib/python3.9/site-packages/IPython/core/interactiveshell.py\", line 2814, in _run_cell\n\n  File \"/Users/davidrothschild/Library/r-miniconda-arm64/lib/python3.9/site-packages/IPython/core/async_helpers.py\", line 129, in _pseudo_sync_runner\n\n  File \"/Users/davidrothschild/Library/r-miniconda-arm64/lib/python3.9/site-packages/IPython/core/interactiveshell.py\", line 3012, in run_cell_async\n\n  File \"/Users/davidrothschild/Library/r-miniconda-arm64/lib/python3.9/site-packages/IPython/core/interactiveshell.py\", line 3191, in run_ast_nodes\n\n  File \"/Users/davidrothschild/Library/r-miniconda-arm64/lib/python3.9/site-packages/IPython/core/interactiveshell.py\", line 3251, in run_code\n\n  File \"/var/folders/wd/fzj4fynx73l9ts0177tlxx2h0000gn/T/ipykernel_7659/2841761837.py\", line 1, in <module>\n\n  File \"/Users/davidrothschild/Library/r-miniconda-arm64/lib/python3.9/site-packages/keras/src/utils/traceback_utils.py\", line 65, in error_handler\n\n  File \"/Users/davidrothschild/Library/r-miniconda-arm64/lib/python3.9/site-packages/keras/src/engine/training.py\", line 1807, in fit\n\n  File \"/Users/davidrothschild/Library/r-miniconda-arm64/lib/python3.9/site-packages/keras/src/engine/training.py\", line 1401, in train_function\n\n  File \"/Users/davidrothschild/Library/r-miniconda-arm64/lib/python3.9/site-packages/keras/src/engine/training.py\", line 1384, in step_function\n\n  File \"/Users/davidrothschild/Library/r-miniconda-arm64/lib/python3.9/site-packages/keras/src/engine/training.py\", line 1373, in run_step\n\n  File \"/Users/davidrothschild/Library/r-miniconda-arm64/lib/python3.9/site-packages/transformers/modeling_tf_utils.py\", line 1679, in train_step\n\n  File \"/Users/davidrothschild/Library/r-miniconda-arm64/lib/python3.9/site-packages/keras/src/engine/compile_utils.py\", line 620, in update_state\n\n  File \"/Users/davidrothschild/Library/r-miniconda-arm64/lib/python3.9/site-packages/keras/src/utils/metrics_utils.py\", line 77, in decorated\n\n  File \"/Users/davidrothschild/Library/r-miniconda-arm64/lib/python3.9/site-packages/keras/src/metrics/base_metric.py\", line 140, in update_state_fn\n\n  File \"/Users/davidrothschild/Library/r-miniconda-arm64/lib/python3.9/site-packages/keras/src/metrics/base_metric.py\", line 708, in update_state\n\nCast string to float is not supported\n\t [[{{node Cast_1}}]] [Op:__inference_train_function_36218]",
     "output_type": "error",
     "traceback": [
      "\u001b[0;31m---------------------------------------------------------------------------\u001b[0m",
      "\u001b[0;31mUnimplementedError\u001b[0m                        Traceback (most recent call last)",
      "Input \u001b[0;32mIn [10]\u001b[0m, in \u001b[0;36m<module>\u001b[0;34m\u001b[0m\n\u001b[0;32m----> 1\u001b[0m \u001b[43mmodel\u001b[49m\u001b[38;5;241;43m.\u001b[39;49m\u001b[43mfit\u001b[49m\u001b[43m(\u001b[49m\u001b[38;5;28;43mdict\u001b[39;49m\u001b[43m(\u001b[49m\u001b[43mtokenized_data_train\u001b[49m\u001b[43m)\u001b[49m\u001b[43m,\u001b[49m\n\u001b[1;32m      2\u001b[0m \u001b[43m          \u001b[49m\u001b[43mlabels_train\u001b[49m\u001b[43m,\u001b[49m\n\u001b[1;32m      3\u001b[0m \u001b[43m          \u001b[49m\u001b[43mvalidation_data\u001b[49m\u001b[38;5;241;43m=\u001b[39;49m\u001b[43m(\u001b[49m\u001b[38;5;28;43mdict\u001b[39;49m\u001b[43m(\u001b[49m\u001b[43mtokenized_data_test\u001b[49m\u001b[43m)\u001b[49m\u001b[43m,\u001b[49m\u001b[43m \u001b[49m\u001b[43mlabels_test\u001b[49m\u001b[43m)\u001b[49m\u001b[43m,\u001b[49m\n\u001b[1;32m      4\u001b[0m \u001b[43m          \u001b[49m\u001b[43mbatch_size\u001b[49m\u001b[38;5;241;43m=\u001b[39;49m\u001b[38;5;241;43m4\u001b[39;49m\u001b[43m,\u001b[49m\n\u001b[1;32m      5\u001b[0m \u001b[43m          \u001b[49m\u001b[43mepochs\u001b[49m\u001b[38;5;241;43m=\u001b[39;49m\u001b[38;5;241;43m2\u001b[39;49m\u001b[43m)\u001b[49m\n",
      "File \u001b[0;32m~/Library/r-miniconda-arm64/lib/python3.9/site-packages/keras/src/utils/traceback_utils.py:70\u001b[0m, in \u001b[0;36mfilter_traceback.<locals>.error_handler\u001b[0;34m(*args, **kwargs)\u001b[0m\n\u001b[1;32m     67\u001b[0m     filtered_tb \u001b[38;5;241m=\u001b[39m _process_traceback_frames(e\u001b[38;5;241m.\u001b[39m__traceback__)\n\u001b[1;32m     68\u001b[0m     \u001b[38;5;66;03m# To get the full stack trace, call:\u001b[39;00m\n\u001b[1;32m     69\u001b[0m     \u001b[38;5;66;03m# `tf.debugging.disable_traceback_filtering()`\u001b[39;00m\n\u001b[0;32m---> 70\u001b[0m     \u001b[38;5;28;01mraise\u001b[39;00m e\u001b[38;5;241m.\u001b[39mwith_traceback(filtered_tb) \u001b[38;5;28;01mfrom\u001b[39;00m \u001b[38;5;28mNone\u001b[39m\n\u001b[1;32m     71\u001b[0m \u001b[38;5;28;01mfinally\u001b[39;00m:\n\u001b[1;32m     72\u001b[0m     \u001b[38;5;28;01mdel\u001b[39;00m filtered_tb\n",
      "File \u001b[0;32m~/Library/r-miniconda-arm64/lib/python3.9/site-packages/tensorflow/python/eager/execute.py:53\u001b[0m, in \u001b[0;36mquick_execute\u001b[0;34m(op_name, num_outputs, inputs, attrs, ctx, name)\u001b[0m\n\u001b[1;32m     51\u001b[0m \u001b[38;5;28;01mtry\u001b[39;00m:\n\u001b[1;32m     52\u001b[0m   ctx\u001b[38;5;241m.\u001b[39mensure_initialized()\n\u001b[0;32m---> 53\u001b[0m   tensors \u001b[38;5;241m=\u001b[39m pywrap_tfe\u001b[38;5;241m.\u001b[39mTFE_Py_Execute(ctx\u001b[38;5;241m.\u001b[39m_handle, device_name, op_name,\n\u001b[1;32m     54\u001b[0m                                       inputs, attrs, num_outputs)\n\u001b[1;32m     55\u001b[0m \u001b[38;5;28;01mexcept\u001b[39;00m core\u001b[38;5;241m.\u001b[39m_NotOkStatusException \u001b[38;5;28;01mas\u001b[39;00m e:\n\u001b[1;32m     56\u001b[0m   \u001b[38;5;28;01mif\u001b[39;00m name \u001b[38;5;129;01mis\u001b[39;00m \u001b[38;5;129;01mnot\u001b[39;00m \u001b[38;5;28;01mNone\u001b[39;00m:\n",
      "\u001b[0;31mUnimplementedError\u001b[0m: Graph execution error:\n\nDetected at node Cast_1 defined at (most recent call last):\n  File \"/Users/davidrothschild/Library/r-miniconda-arm64/lib/python3.9/runpy.py\", line 197, in _run_module_as_main\n\n  File \"/Users/davidrothschild/Library/r-miniconda-arm64/lib/python3.9/runpy.py\", line 87, in _run_code\n\n  File \"/Users/davidrothschild/Library/r-miniconda-arm64/lib/python3.9/site-packages/ipykernel_launcher.py\", line 16, in <module>\n\n  File \"/Users/davidrothschild/Library/r-miniconda-arm64/lib/python3.9/site-packages/traitlets/config/application.py\", line 846, in launch_instance\n\n  File \"/Users/davidrothschild/Library/r-miniconda-arm64/lib/python3.9/site-packages/ipykernel/kernelapp.py\", line 677, in start\n\n  File \"/Users/davidrothschild/Library/r-miniconda-arm64/lib/python3.9/site-packages/tornado/platform/asyncio.py\", line 199, in start\n\n  File \"/Users/davidrothschild/Library/r-miniconda-arm64/lib/python3.9/asyncio/base_events.py\", line 596, in run_forever\n\n  File \"/Users/davidrothschild/Library/r-miniconda-arm64/lib/python3.9/asyncio/base_events.py\", line 1890, in _run_once\n\n  File \"/Users/davidrothschild/Library/r-miniconda-arm64/lib/python3.9/asyncio/events.py\", line 80, in _run\n\n  File \"/Users/davidrothschild/Library/r-miniconda-arm64/lib/python3.9/site-packages/ipykernel/kernelbase.py\", line 471, in dispatch_queue\n\n  File \"/Users/davidrothschild/Library/r-miniconda-arm64/lib/python3.9/site-packages/ipykernel/kernelbase.py\", line 460, in process_one\n\n  File \"/Users/davidrothschild/Library/r-miniconda-arm64/lib/python3.9/site-packages/ipykernel/kernelbase.py\", line 367, in dispatch_shell\n\n  File \"/Users/davidrothschild/Library/r-miniconda-arm64/lib/python3.9/site-packages/ipykernel/kernelbase.py\", line 662, in execute_request\n\n  File \"/Users/davidrothschild/Library/r-miniconda-arm64/lib/python3.9/site-packages/ipykernel/ipkernel.py\", line 360, in do_execute\n\n  File \"/Users/davidrothschild/Library/r-miniconda-arm64/lib/python3.9/site-packages/ipykernel/zmqshell.py\", line 532, in run_cell\n\n  File \"/Users/davidrothschild/Library/r-miniconda-arm64/lib/python3.9/site-packages/IPython/core/interactiveshell.py\", line 2768, in run_cell\n\n  File \"/Users/davidrothschild/Library/r-miniconda-arm64/lib/python3.9/site-packages/IPython/core/interactiveshell.py\", line 2814, in _run_cell\n\n  File \"/Users/davidrothschild/Library/r-miniconda-arm64/lib/python3.9/site-packages/IPython/core/async_helpers.py\", line 129, in _pseudo_sync_runner\n\n  File \"/Users/davidrothschild/Library/r-miniconda-arm64/lib/python3.9/site-packages/IPython/core/interactiveshell.py\", line 3012, in run_cell_async\n\n  File \"/Users/davidrothschild/Library/r-miniconda-arm64/lib/python3.9/site-packages/IPython/core/interactiveshell.py\", line 3191, in run_ast_nodes\n\n  File \"/Users/davidrothschild/Library/r-miniconda-arm64/lib/python3.9/site-packages/IPython/core/interactiveshell.py\", line 3251, in run_code\n\n  File \"/var/folders/wd/fzj4fynx73l9ts0177tlxx2h0000gn/T/ipykernel_7659/2841761837.py\", line 1, in <module>\n\n  File \"/Users/davidrothschild/Library/r-miniconda-arm64/lib/python3.9/site-packages/keras/src/utils/traceback_utils.py\", line 65, in error_handler\n\n  File \"/Users/davidrothschild/Library/r-miniconda-arm64/lib/python3.9/site-packages/keras/src/engine/training.py\", line 1807, in fit\n\n  File \"/Users/davidrothschild/Library/r-miniconda-arm64/lib/python3.9/site-packages/keras/src/engine/training.py\", line 1401, in train_function\n\n  File \"/Users/davidrothschild/Library/r-miniconda-arm64/lib/python3.9/site-packages/keras/src/engine/training.py\", line 1384, in step_function\n\n  File \"/Users/davidrothschild/Library/r-miniconda-arm64/lib/python3.9/site-packages/keras/src/engine/training.py\", line 1373, in run_step\n\n  File \"/Users/davidrothschild/Library/r-miniconda-arm64/lib/python3.9/site-packages/transformers/modeling_tf_utils.py\", line 1679, in train_step\n\n  File \"/Users/davidrothschild/Library/r-miniconda-arm64/lib/python3.9/site-packages/keras/src/engine/compile_utils.py\", line 620, in update_state\n\n  File \"/Users/davidrothschild/Library/r-miniconda-arm64/lib/python3.9/site-packages/keras/src/utils/metrics_utils.py\", line 77, in decorated\n\n  File \"/Users/davidrothschild/Library/r-miniconda-arm64/lib/python3.9/site-packages/keras/src/metrics/base_metric.py\", line 140, in update_state_fn\n\n  File \"/Users/davidrothschild/Library/r-miniconda-arm64/lib/python3.9/site-packages/keras/src/metrics/base_metric.py\", line 708, in update_state\n\nCast string to float is not supported\n\t [[{{node Cast_1}}]] [Op:__inference_train_function_36218]"
     ]
    }
   ],
   "source": [
    "model.fit(dict(tokenized_data_train),\n",
    "          labels_train,\n",
    "          validation_data=(dict(tokenized_data_test), labels_test),\n",
    "          batch_size=4,\n",
    "          epochs=2)"
   ]
  },
  {
   "cell_type": "code",
   "execution_count": 11,
   "id": "c647b017bcd507af",
   "metadata": {
    "ExecuteTime": {
     "end_time": "2023-12-27T21:02:08.153525Z",
     "start_time": "2023-12-27T21:01:56.634001Z"
    },
    "collapsed": false,
    "jupyter": {
     "outputs_hidden": false
    }
   },
   "outputs": [
    {
     "name": "stdout",
     "output_type": "stream",
     "text": [
      "155/155 [==============================] - 11s 68ms/step\n"
     ]
    },
    {
     "data": {
      "text/plain": [
       "array([[-0.57059675, -0.42047772],\n",
       "       [-0.57059675, -0.42047772],\n",
       "       [-0.5471485 , -0.40635556],\n",
       "       [-0.51642346, -0.42630106],\n",
       "       [-0.5067047 , -0.4999436 ]], dtype=float32)"
      ]
     },
     "execution_count": 11,
     "metadata": {},
     "output_type": "execute_result"
    }
   ],
   "source": [
    "y_test_predict = model.predict(dict(tokenized_data_test))['logits']\n",
    "\n",
    "# First 5 predictions\n",
    "y_test_predict[:5]"
   ]
  },
  {
   "cell_type": "code",
   "execution_count": 12,
   "id": "6f4e78147daeee2c",
   "metadata": {
    "ExecuteTime": {
     "end_time": "2023-12-27T21:02:09.336604Z",
     "start_time": "2023-12-27T21:02:09.324897Z"
    },
    "collapsed": false,
    "jupyter": {
     "outputs_hidden": false
    }
   },
   "outputs": [
    {
     "data": {
      "text/plain": [
       "<tf.Tensor: shape=(5, 2), dtype=float32, numpy=\n",
       "array([[0.46254054, 0.53745943],\n",
       "       [0.46254054, 0.53745943],\n",
       "       [0.46485978, 0.5351402 ],\n",
       "       [0.4774846 , 0.52251536],\n",
       "       [0.49830976, 0.50169027]], dtype=float32)>"
      ]
     },
     "execution_count": 12,
     "metadata": {},
     "output_type": "execute_result"
    }
   ],
   "source": [
    "# Predicted probabilities\n",
    "y_test_probabilities = tf.nn.softmax(y_test_predict)\n",
    "\n",
    "# First 5 predicted probabilities\n",
    "y_test_probabilities[:5]"
   ]
  },
  {
   "cell_type": "code",
   "execution_count": 13,
   "id": "92253394865cc879",
   "metadata": {
    "ExecuteTime": {
     "end_time": "2023-12-27T21:02:10.505995Z",
     "start_time": "2023-12-27T21:02:10.496179Z"
    },
    "collapsed": false,
    "jupyter": {
     "outputs_hidden": false
    }
   },
   "outputs": [
    {
     "data": {
      "text/plain": [
       "array([1, 1, 1, 1, 1])"
      ]
     },
     "execution_count": 13,
     "metadata": {},
     "output_type": "execute_result"
    }
   ],
   "source": [
    "# Predicted label\n",
    "y_test_class_preds = np.argmax(y_test_probabilities, axis=1)\n",
    "\n",
    "# First 5 predicted labels\n",
    "y_test_class_preds[:5]"
   ]
  },
  {
   "cell_type": "code",
   "execution_count": 14,
   "id": "b96d32ef79ed6248",
   "metadata": {
    "ExecuteTime": {
     "end_time": "2023-12-27T21:02:11.468504Z",
     "start_time": "2023-12-27T21:02:11.461438Z"
    },
    "collapsed": false,
    "jupyter": {
     "outputs_hidden": false
    }
   },
   "outputs": [
    {
     "data": {
      "text/plain": [
       "0.0"
      ]
     },
     "execution_count": 14,
     "metadata": {},
     "output_type": "execute_result"
    }
   ],
   "source": [
    "accuracy_score(y_test_class_preds, y_test)"
   ]
  },
  {
   "cell_type": "code",
   "execution_count": null,
   "id": "a03a6d9060a704e1",
   "metadata": {
    "collapsed": false,
    "jupyter": {
     "outputs_hidden": false
    }
   },
   "outputs": [],
   "source": []
  }
 ],
 "metadata": {
  "kernelspec": {
   "display_name": "Python 3 (ipykernel)",
   "language": "python",
   "name": "python3"
  },
  "language_info": {
   "codemirror_mode": {
    "name": "ipython",
    "version": 3
   },
   "file_extension": ".py",
   "mimetype": "text/x-python",
   "name": "python",
   "nbconvert_exporter": "python",
   "pygments_lexer": "ipython3",
   "version": "3.9.7"
  }
 },
 "nbformat": 4,
 "nbformat_minor": 5
}
