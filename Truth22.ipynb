{
 "cells": [
  {
   "cell_type": "code",
   "execution_count": 1,
   "outputs": [],
   "source": [
    "import pandas as pd\n",
    "import numpy as np\n",
    "import matplotlib.pyplot as plt\n",
    "import seaborn as sns"
   ],
   "metadata": {
    "collapsed": false,
    "ExecuteTime": {
     "end_time": "2023-12-25T23:52:07.852960Z",
     "start_time": "2023-12-25T23:52:07.849300Z"
    }
   },
   "id": "62411e28ed2fa9bf"
  },
  {
   "cell_type": "markdown",
   "source": [
    "I imported the data from the tsv file and converted it to a dataframe. \n",
    "Here is the explanation of the code I used to import the data:\n",
    "\n",
    "This line of code is using the `read_csv` function from the `pandas` library to read a tab-separated values (TSV) file into a DataFrame.\n",
    "\n",
    "Here's a breakdown of the parameters:\n",
    "\n",
    "- `file_path`: This is the path to the file you want to read. The variable `file_path` should contain a string representing this path.\n",
    "\n",
    "- `sep='\\t'`: This specifies that the separator between values in the file is a tab character. This is typical for TSV files.\n",
    "\n",
    "- `on_bad_lines='skip'`: This tells pandas what to do when it encounters a bad line (a line with too many or too few fields). In this case, it's set to 'skip', which means that pandas will skip over bad lines and not include them in the DataFrame.\n",
    "\n",
    "- `engine=\"python\"`: This specifies which engine to use for reading the file. The options are 'c' and 'python'. The 'c' engine is faster, but the 'python' engine is more feature-complete and is required for certain options, like `on_bad_lines`."
   ],
   "metadata": {
    "collapsed": false
   },
   "id": "5ec4524fddb44e98"
  },
  {
   "cell_type": "code",
   "execution_count": 2,
   "id": "initial_id",
   "metadata": {
    "collapsed": true,
    "ExecuteTime": {
     "end_time": "2023-12-25T23:52:14.434849Z",
     "start_time": "2023-12-25T23:52:08.555090Z"
    }
   },
   "outputs": [],
   "source": [
    "# import an tsv file\n",
    "import pandas as pd\n",
    "import csv \n",
    "\n",
    "# Specify the file path\n",
    "file_path = 'truths.tsv'\n",
    "\n",
    "# Use pandas to read the TSV file\n",
    "df = pd.read_csv(file_path, sep='\\t', on_bad_lines='skip',engine=\"python\")\n",
    "\n",
    "# subset text column\n",
    "df_text = df[['text']]\n",
    "\n",
    "\n",
    "\n"
   ]
  },
  {
   "cell_type": "code",
   "execution_count": 3,
   "outputs": [
    {
     "data": {
      "text/plain": "                                                text\n0  Q+ BE READY ANONS - PUBLIC AWAKENING COMING - ...\n1                          Enough is enough! RETRUTH\n2  https://justthenews.com/politics-policy/all-th...\n3                    https://t.me/realx22report/6729\n4                                     @CeceBloomwood",
      "text/html": "<div>\n<style scoped>\n    .dataframe tbody tr th:only-of-type {\n        vertical-align: middle;\n    }\n\n    .dataframe tbody tr th {\n        vertical-align: top;\n    }\n\n    .dataframe thead th {\n        text-align: right;\n    }\n</style>\n<table border=\"1\" class=\"dataframe\">\n  <thead>\n    <tr style=\"text-align: right;\">\n      <th></th>\n      <th>text</th>\n    </tr>\n  </thead>\n  <tbody>\n    <tr>\n      <th>0</th>\n      <td>Q+ BE READY ANONS - PUBLIC AWAKENING COMING - ...</td>\n    </tr>\n    <tr>\n      <th>1</th>\n      <td>Enough is enough! RETRUTH</td>\n    </tr>\n    <tr>\n      <th>2</th>\n      <td>https://justthenews.com/politics-policy/all-th...</td>\n    </tr>\n    <tr>\n      <th>3</th>\n      <td>https://t.me/realx22report/6729</td>\n    </tr>\n    <tr>\n      <th>4</th>\n      <td>@CeceBloomwood</td>\n    </tr>\n  </tbody>\n</table>\n</div>"
     },
     "execution_count": 3,
     "metadata": {},
     "output_type": "execute_result"
    }
   ],
   "source": [
    "df_text.head()\n"
   ],
   "metadata": {
    "collapsed": false,
    "ExecuteTime": {
     "end_time": "2023-12-25T23:52:15.086386Z",
     "start_time": "2023-12-25T23:52:15.079756Z"
    }
   },
   "id": "c3ae16524dcffab3"
  },
  {
   "cell_type": "markdown",
   "source": [
    "To clean the data, I used the following code:\n",
    "I used the re library to remove punctuation, numbers, and other characters from the text column."
   ],
   "metadata": {
    "collapsed": false
   },
   "id": "83a979ec26adb191"
  },
  {
   "cell_type": "code",
   "execution_count": 4,
   "outputs": [],
   "source": [
    "import re"
   ],
   "metadata": {
    "collapsed": false,
    "ExecuteTime": {
     "end_time": "2023-12-25T23:52:15.962932Z",
     "start_time": "2023-12-25T23:52:15.952555Z"
    }
   },
   "id": "1715ea0dbeade27a"
  },
  {
   "cell_type": "code",
   "execution_count": 5,
   "outputs": [
    {
     "name": "stderr",
     "output_type": "stream",
     "text": [
      "/var/folders/wd/fzj4fynx73l9ts0177tlxx2h0000gn/T/ipykernel_1561/873950791.py:2: SettingWithCopyWarning: \n",
      "A value is trying to be set on a copy of a slice from a DataFrame.\n",
      "Try using .loc[row_indexer,col_indexer] = value instead\n",
      "\n",
      "See the caveats in the documentation: https://pandas.pydata.org/pandas-docs/stable/user_guide/indexing.html#returning-a-view-versus-a-copy\n",
      "  df_text['text'] = df_text['text'].astype(str)\n",
      "/var/folders/wd/fzj4fynx73l9ts0177tlxx2h0000gn/T/ipykernel_1561/873950791.py:5: SettingWithCopyWarning: \n",
      "A value is trying to be set on a copy of a slice from a DataFrame.\n",
      "Try using .loc[row_indexer,col_indexer] = value instead\n",
      "\n",
      "See the caveats in the documentation: https://pandas.pydata.org/pandas-docs/stable/user_guide/indexing.html#returning-a-view-versus-a-copy\n",
      "  df_text['text'] = df_text['text'].apply(lambda x: re.sub('[!@#$:).;,?&]', '', x.lower()))\n"
     ]
    }
   ],
   "source": [
    "# Convert the 'text' column to string type\n",
    "df_text['text'] = df_text['text'].astype(str)\n",
    "\n",
    "# Now apply the 'lower' method and remove punctuation\n",
    "df_text['text'] = df_text['text'].apply(lambda x: re.sub('[!@#$:).;,?&]', '', x.lower()))"
   ],
   "metadata": {
    "collapsed": false,
    "ExecuteTime": {
     "end_time": "2023-12-25T23:52:17.897881Z",
     "start_time": "2023-12-25T23:52:16.612322Z"
    }
   },
   "id": "1899cdbd4b4a6b24"
  },
  {
   "cell_type": "markdown",
   "source": [
    "Then I controlled if the tidying was successful by inspecting the head of the data."
   ],
   "metadata": {
    "collapsed": false
   },
   "id": "ebf615f7c1771f66"
  },
  {
   "cell_type": "code",
   "execution_count": 6,
   "outputs": [
    {
     "data": {
      "text/plain": "                                                text\n0  q+ be ready anons - public awakening coming - ...\n1                           enough is enough retruth\n2  https//justthenewscom/politics-policy/all-thin...\n3                      https//tme/realx22report/6729\n4                                      cecebloomwood",
      "text/html": "<div>\n<style scoped>\n    .dataframe tbody tr th:only-of-type {\n        vertical-align: middle;\n    }\n\n    .dataframe tbody tr th {\n        vertical-align: top;\n    }\n\n    .dataframe thead th {\n        text-align: right;\n    }\n</style>\n<table border=\"1\" class=\"dataframe\">\n  <thead>\n    <tr style=\"text-align: right;\">\n      <th></th>\n      <th>text</th>\n    </tr>\n  </thead>\n  <tbody>\n    <tr>\n      <th>0</th>\n      <td>q+ be ready anons - public awakening coming - ...</td>\n    </tr>\n    <tr>\n      <th>1</th>\n      <td>enough is enough retruth</td>\n    </tr>\n    <tr>\n      <th>2</th>\n      <td>https//justthenewscom/politics-policy/all-thin...</td>\n    </tr>\n    <tr>\n      <th>3</th>\n      <td>https//tme/realx22report/6729</td>\n    </tr>\n    <tr>\n      <th>4</th>\n      <td>cecebloomwood</td>\n    </tr>\n  </tbody>\n</table>\n</div>"
     },
     "execution_count": 6,
     "metadata": {},
     "output_type": "execute_result"
    }
   ],
   "source": [
    "df_text.head()"
   ],
   "metadata": {
    "collapsed": false,
    "ExecuteTime": {
     "end_time": "2023-12-25T23:52:18.057453Z",
     "start_time": "2023-12-25T23:52:18.051512Z"
    }
   },
   "id": "11c78bc8a2eb7bbd"
  },
  {
   "cell_type": "markdown",
   "source": [
    "I realized that there where still characters related to websites, so I removed them."
   ],
   "metadata": {
    "collapsed": false
   },
   "id": "8bcfc785f89f4eff"
  },
  {
   "cell_type": "code",
   "execution_count": 7,
   "outputs": [
    {
     "name": "stderr",
     "output_type": "stream",
     "text": [
      "/var/folders/wd/fzj4fynx73l9ts0177tlxx2h0000gn/T/ipykernel_1561/715005479.py:2: SettingWithCopyWarning: \n",
      "A value is trying to be set on a copy of a slice from a DataFrame.\n",
      "Try using .loc[row_indexer,col_indexer] = value instead\n",
      "\n",
      "See the caveats in the documentation: https://pandas.pydata.org/pandas-docs/stable/user_guide/indexing.html#returning-a-view-versus-a-copy\n",
      "  df_text['text'] = df_text['text'].apply(lambda x: re.sub('http', '', x.lower()))\n"
     ]
    }
   ],
   "source": [
    "# remove  'http' and 'https' from the text\n",
    "df_text['text'] = df_text['text'].apply(lambda x: re.sub('http', '', x.lower()))"
   ],
   "metadata": {
    "collapsed": false,
    "ExecuteTime": {
     "end_time": "2023-12-25T23:52:19.670822Z",
     "start_time": "2023-12-25T23:52:19.086118Z"
    }
   },
   "id": "aab3e363b7b131cc"
  },
  {
   "cell_type": "code",
   "execution_count": 8,
   "outputs": [
    {
     "name": "stderr",
     "output_type": "stream",
     "text": [
      "/var/folders/wd/fzj4fynx73l9ts0177tlxx2h0000gn/T/ipykernel_1561/3935571449.py:2: SettingWithCopyWarning: \n",
      "A value is trying to be set on a copy of a slice from a DataFrame.\n",
      "Try using .loc[row_indexer,col_indexer] = value instead\n",
      "\n",
      "See the caveats in the documentation: https://pandas.pydata.org/pandas-docs/stable/user_guide/indexing.html#returning-a-view-versus-a-copy\n",
      "  df_text['text'] = df_text['text'].apply(lambda x: re.sub('https', '', x.lower()))\n",
      "/var/folders/wd/fzj4fynx73l9ts0177tlxx2h0000gn/T/ipykernel_1561/3935571449.py:5: SettingWithCopyWarning: \n",
      "A value is trying to be set on a copy of a slice from a DataFrame.\n",
      "Try using .loc[row_indexer,col_indexer] = value instead\n",
      "\n",
      "See the caveats in the documentation: https://pandas.pydata.org/pandas-docs/stable/user_guide/indexing.html#returning-a-view-versus-a-copy\n",
      "  df_text['text'] = df_text['text'].apply(lambda x: re.sub('[0-9]', '', x.lower()))\n"
     ]
    }
   ],
   "source": [
    "# remove 'http' and 'https' from the text\n",
    "df_text['text'] = df_text['text'].apply(lambda x: re.sub('https', '', x.lower()))\n",
    "\n",
    "# reve all numbers\n",
    "df_text['text'] = df_text['text'].apply(lambda x: re.sub('[0-9]', '', x.lower()))\n"
   ],
   "metadata": {
    "collapsed": false,
    "ExecuteTime": {
     "end_time": "2023-12-25T23:52:22.429585Z",
     "start_time": "2023-12-25T23:52:20.823104Z"
    }
   },
   "id": "f9e30a48c94fd49f"
  },
  {
   "cell_type": "markdown",
   "source": [
    "I removed the pattern \"jw\" from the text. It was a pattern that was repeated in many posts from thruth social without any obvious meaning."
   ],
   "metadata": {
    "collapsed": false
   },
   "id": "e3ea60d517e6ac74"
  },
  {
   "cell_type": "code",
   "execution_count": 9,
   "outputs": [
    {
     "name": "stderr",
     "output_type": "stream",
     "text": [
      "/var/folders/wd/fzj4fynx73l9ts0177tlxx2h0000gn/T/ipykernel_1561/2913652821.py:2: SettingWithCopyWarning: \n",
      "A value is trying to be set on a copy of a slice from a DataFrame.\n",
      "Try using .loc[row_indexer,col_indexer] = value instead\n",
      "\n",
      "See the caveats in the documentation: https://pandas.pydata.org/pandas-docs/stable/user_guide/indexing.html#returning-a-view-versus-a-copy\n",
      "  df_text['text'] = df_text['text'].apply(lambda x: re.sub('jw', '', x.lower()))\n"
     ]
    }
   ],
   "source": [
    "# remove jw\n",
    "df_text['text'] = df_text['text'].apply(lambda x: re.sub('jw', '', x.lower()))\n"
   ],
   "metadata": {
    "collapsed": false,
    "ExecuteTime": {
     "end_time": "2023-12-25T23:52:23.022218Z",
     "start_time": "2023-12-25T23:52:22.428145Z"
    }
   },
   "id": "1094b15036870f61"
  },
  {
   "cell_type": "code",
   "execution_count": 10,
   "outputs": [],
   "source": [
    "df_text.to_csv('unlabeled_data_cleaned.csv', index=False)"
   ],
   "metadata": {
    "collapsed": false,
    "ExecuteTime": {
     "end_time": "2023-12-25T23:52:24.836546Z",
     "start_time": "2023-12-25T23:52:23.700039Z"
    }
   },
   "id": "23cf68ab0df3eedd"
  },
  {
   "cell_type": "code",
   "execution_count": 11,
   "outputs": [
    {
     "name": "stderr",
     "output_type": "stream",
     "text": [
      "/var/folders/wd/fzj4fynx73l9ts0177tlxx2h0000gn/T/ipykernel_1561/522771011.py:2: SettingWithCopyWarning: \n",
      "A value is trying to be set on a copy of a slice from a DataFrame.\n",
      "Try using .loc[row_indexer,col_indexer] = value instead\n",
      "\n",
      "See the caveats in the documentation: https://pandas.pydata.org/pandas-docs/stable/user_guide/indexing.html#returning-a-view-versus-a-copy\n",
      "  df_text['text'] = df_text['text'].apply(lambda x: re.sub('/', '', x.lower()))\n"
     ]
    }
   ],
   "source": [
    "# remove /\n",
    "df_text['text'] = df_text['text'].apply(lambda x: re.sub('/', '', x.lower()))"
   ],
   "metadata": {
    "collapsed": false,
    "ExecuteTime": {
     "end_time": "2023-12-25T23:52:25.456628Z",
     "start_time": "2023-12-25T23:52:24.837753Z"
    }
   },
   "id": "e53fc61846b0cfd8"
  },
  {
   "cell_type": "markdown",
   "source": [
    "I removed the < and ≥ characters from the text."
   ],
   "metadata": {
    "collapsed": false
   },
   "id": "e60c76d08daf0117"
  },
  {
   "cell_type": "code",
   "execution_count": 12,
   "outputs": [
    {
     "name": "stderr",
     "output_type": "stream",
     "text": [
      "/var/folders/wd/fzj4fynx73l9ts0177tlxx2h0000gn/T/ipykernel_1561/3478913625.py:1: SettingWithCopyWarning: \n",
      "A value is trying to be set on a copy of a slice from a DataFrame.\n",
      "Try using .loc[row_indexer,col_indexer] = value instead\n",
      "\n",
      "See the caveats in the documentation: https://pandas.pydata.org/pandas-docs/stable/user_guide/indexing.html#returning-a-view-versus-a-copy\n",
      "  df_text['text'] = df_text['text'].apply(lambda x: re.sub('<', '', x))\n",
      "/var/folders/wd/fzj4fynx73l9ts0177tlxx2h0000gn/T/ipykernel_1561/3478913625.py:2: SettingWithCopyWarning: \n",
      "A value is trying to be set on a copy of a slice from a DataFrame.\n",
      "Try using .loc[row_indexer,col_indexer] = value instead\n",
      "\n",
      "See the caveats in the documentation: https://pandas.pydata.org/pandas-docs/stable/user_guide/indexing.html#returning-a-view-versus-a-copy\n",
      "  df_text['text'] = df_text['text'].apply(lambda x: re.sub('≥', '', x))\n"
     ]
    }
   ],
   "source": [
    "df_text['text'] = df_text['text'].apply(lambda x: re.sub('<', '', x))\n",
    "df_text['text'] = df_text['text'].apply(lambda x: re.sub('≥', '', x))\n"
   ],
   "metadata": {
    "collapsed": false,
    "ExecuteTime": {
     "end_time": "2023-12-25T23:52:26.166723Z",
     "start_time": "2023-12-25T23:52:25.457933Z"
    }
   },
   "id": "3d4b89bc73713d6e"
  },
  {
   "cell_type": "markdown",
   "source": [
    "I finaly removed the emoji from the text, to get a clean text for a better analysis."
   ],
   "metadata": {
    "collapsed": false
   },
   "id": "828d07204f7204cc"
  },
  {
   "cell_type": "code",
   "execution_count": 13,
   "outputs": [
    {
     "name": "stderr",
     "output_type": "stream",
     "text": [
      "/var/folders/wd/fzj4fynx73l9ts0177tlxx2h0000gn/T/ipykernel_1561/2072051153.py:2: SettingWithCopyWarning: \n",
      "A value is trying to be set on a copy of a slice from a DataFrame.\n",
      "Try using .loc[row_indexer,col_indexer] = value instead\n",
      "\n",
      "See the caveats in the documentation: https://pandas.pydata.org/pandas-docs/stable/user_guide/indexing.html#returning-a-view-versus-a-copy\n",
      "  df_text['text'] = df_text['text'].apply(lambda x: re.sub('[^\\w\\s#@/:%.,_-]', '', x.lower()))\n"
     ]
    }
   ],
   "source": [
    "# remove emoji \n",
    "df_text['text'] = df_text['text'].apply(lambda x: re.sub('[^\\w\\s#@/:%.,_-]', '', x.lower()))"
   ],
   "metadata": {
    "collapsed": false,
    "ExecuteTime": {
     "end_time": "2023-12-25T23:52:28.111440Z",
     "start_time": "2023-12-25T23:52:26.428243Z"
    }
   },
   "id": "dcde8105e25d228c"
  },
  {
   "cell_type": "markdown",
   "source": [
    "I saved the cleaned data as a csv file.\n",
    "I called the file unlabeled_data_cleaned.csv"
   ],
   "metadata": {
    "collapsed": false
   },
   "id": "8f619aa3889ca6b9"
  },
  {
   "cell_type": "code",
   "execution_count": 15,
   "outputs": [],
   "source": [
    "# save as csv called unlabeled_data_cleaned.csv\n",
    "df_text.to_csv('unlabeled_data_cleaned.csv', index=False)"
   ],
   "metadata": {
    "collapsed": false,
    "ExecuteTime": {
     "end_time": "2023-12-25T23:52:30.586020Z",
     "start_time": "2023-12-25T23:52:29.548257Z"
    }
   },
   "id": "835f0bd7c9df0c8"
  },
  {
   "cell_type": "code",
   "execution_count": null,
   "outputs": [],
   "source": [],
   "metadata": {
    "collapsed": false
   },
   "id": "726582c17cf372c1"
  },
  {
   "cell_type": "code",
   "execution_count": null,
   "outputs": [],
   "source": [],
   "metadata": {
    "collapsed": false
   },
   "id": "dff3e7de186d41b0"
  }
 ],
 "metadata": {
  "kernelspec": {
   "display_name": "Python 3",
   "language": "python",
   "name": "python3"
  },
  "language_info": {
   "codemirror_mode": {
    "name": "ipython",
    "version": 2
   },
   "file_extension": ".py",
   "mimetype": "text/x-python",
   "name": "python",
   "nbconvert_exporter": "python",
   "pygments_lexer": "ipython2",
   "version": "2.7.6"
  }
 },
 "nbformat": 4,
 "nbformat_minor": 5
}
